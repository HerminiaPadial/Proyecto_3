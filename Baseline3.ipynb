{
 "cells": [
  {
   "cell_type": "code",
   "execution_count": 1,
   "id": "56a309bf",
   "metadata": {},
   "outputs": [
    {
     "name": "stdout",
     "output_type": "stream",
     "text": [
      "Requirement already satisfied: scikit-learn in /Applications/miniconda3/envs/m3_env/lib/python3.9/site-packages (1.2.2)\n",
      "Requirement already satisfied: joblib>=1.1.1 in /Applications/miniconda3/envs/m3_env/lib/python3.9/site-packages (from scikit-learn) (1.2.0)\n",
      "Requirement already satisfied: threadpoolctl>=2.0.0 in /Applications/miniconda3/envs/m3_env/lib/python3.9/site-packages (from scikit-learn) (3.1.0)\n",
      "Requirement already satisfied: numpy>=1.17.3 in /Applications/miniconda3/envs/m3_env/lib/python3.9/site-packages (from scikit-learn) (1.24.3)\n",
      "Requirement already satisfied: scipy>=1.3.2 in /Applications/miniconda3/envs/m3_env/lib/python3.9/site-packages (from scikit-learn) (1.10.1)\n"
     ]
    }
   ],
   "source": [
    "!pip install scikit-learn\n"
   ]
  },
  {
   "cell_type": "markdown",
   "id": "427f5fa7",
   "metadata": {},
   "source": [
    "## IMPORTS"
   ]
  },
  {
   "cell_type": "code",
   "execution_count": 15,
   "id": "1cd5db6b",
   "metadata": {},
   "outputs": [],
   "source": [
    "\n",
    "import numpy as np\n",
    "import pandas as pd\n",
    "import sklearn\n",
    "from sklearn.ensemble import RandomForestRegressor\n",
    "from sklearn.preprocessing import RobustScaler, StandardScaler\n",
    "from sklearn.preprocessing import OneHotEncoder, OrdinalEncoder\n",
    "from sklearn.model_selection import train_test_split\n",
    "from sklearn.linear_model import LogisticRegression\n",
    "from sklearn.ensemble import RandomForestClassifier\n",
    "from sklearn.metrics import roc_auc_score\n",
    "from sklearn.linear_model import LinearRegression\n",
    "from sklearn.metrics import mean_squared_error\n"
   ]
  },
  {
   "cell_type": "markdown",
   "id": "c3919896",
   "metadata": {},
   "source": [
    "## READ ORIGINAL"
   ]
  },
  {
   "cell_type": "code",
   "execution_count": 16,
   "id": "1ba0494e",
   "metadata": {},
   "outputs": [
    {
     "data": {
      "text/html": [
       "<div>\n",
       "<style scoped>\n",
       "    .dataframe tbody tr th:only-of-type {\n",
       "        vertical-align: middle;\n",
       "    }\n",
       "\n",
       "    .dataframe tbody tr th {\n",
       "        vertical-align: top;\n",
       "    }\n",
       "\n",
       "    .dataframe thead th {\n",
       "        text-align: right;\n",
       "    }\n",
       "</style>\n",
       "<table border=\"1\" class=\"dataframe\">\n",
       "  <thead>\n",
       "    <tr style=\"text-align: right;\">\n",
       "      <th></th>\n",
       "      <th>Unnamed: 0</th>\n",
       "      <th>table</th>\n",
       "      <th>x</th>\n",
       "      <th>y</th>\n",
       "      <th>z</th>\n",
       "      <th>price</th>\n",
       "      <th>carat</th>\n",
       "      <th>color-encoded</th>\n",
       "      <th>cut-encoded</th>\n",
       "      <th>clarity-encoded</th>\n",
       "      <th>index_id</th>\n",
       "      <th>depth</th>\n",
       "    </tr>\n",
       "  </thead>\n",
       "  <tbody>\n",
       "    <tr>\n",
       "      <th>0</th>\n",
       "      <td>0</td>\n",
       "      <td>58</td>\n",
       "      <td>6</td>\n",
       "      <td>6</td>\n",
       "      <td>4</td>\n",
       "      <td>4268</td>\n",
       "      <td>1</td>\n",
       "      <td>6</td>\n",
       "      <td>4</td>\n",
       "      <td>4</td>\n",
       "      <td>5feceb66ffc86f38d952786c6d696c79c2dbc239dd4e91...</td>\n",
       "      <td>62</td>\n",
       "    </tr>\n",
       "    <tr>\n",
       "      <th>1</th>\n",
       "      <td>1</td>\n",
       "      <td>58</td>\n",
       "      <td>6</td>\n",
       "      <td>6</td>\n",
       "      <td>3</td>\n",
       "      <td>3513</td>\n",
       "      <td>1</td>\n",
       "      <td>6</td>\n",
       "      <td>4</td>\n",
       "      <td>4</td>\n",
       "      <td>41667f6e2629360aecaf00b20f8732e3310417ebd54b24...</td>\n",
       "      <td>61</td>\n",
       "    </tr>\n",
       "    <tr>\n",
       "      <th>2</th>\n",
       "      <td>2</td>\n",
       "      <td>58</td>\n",
       "      <td>5</td>\n",
       "      <td>5</td>\n",
       "      <td>3</td>\n",
       "      <td>1792</td>\n",
       "      <td>0</td>\n",
       "      <td>6</td>\n",
       "      <td>4</td>\n",
       "      <td>4</td>\n",
       "      <td>01f8667f50d52677bea23231a74156e4f92360d7bc3db6...</td>\n",
       "      <td>62</td>\n",
       "    </tr>\n",
       "    <tr>\n",
       "      <th>3</th>\n",
       "      <td>3</td>\n",
       "      <td>60</td>\n",
       "      <td>7</td>\n",
       "      <td>7</td>\n",
       "      <td>4</td>\n",
       "      <td>7553</td>\n",
       "      <td>1</td>\n",
       "      <td>6</td>\n",
       "      <td>4</td>\n",
       "      <td>4</td>\n",
       "      <td>c3867352aab641358faec75d733af012dbe2259a014ea8...</td>\n",
       "      <td>59</td>\n",
       "    </tr>\n",
       "    <tr>\n",
       "      <th>4</th>\n",
       "      <td>4</td>\n",
       "      <td>62</td>\n",
       "      <td>5</td>\n",
       "      <td>5</td>\n",
       "      <td>3</td>\n",
       "      <td>1176</td>\n",
       "      <td>0</td>\n",
       "      <td>6</td>\n",
       "      <td>4</td>\n",
       "      <td>4</td>\n",
       "      <td>0da4b104c4d8589fcb96a03aa0787549a2631935b0f499...</td>\n",
       "      <td>60</td>\n",
       "    </tr>\n",
       "    <tr>\n",
       "      <th>...</th>\n",
       "      <td>...</td>\n",
       "      <td>...</td>\n",
       "      <td>...</td>\n",
       "      <td>...</td>\n",
       "      <td>...</td>\n",
       "      <td>...</td>\n",
       "      <td>...</td>\n",
       "      <td>...</td>\n",
       "      <td>...</td>\n",
       "      <td>...</td>\n",
       "      <td>...</td>\n",
       "      <td>...</td>\n",
       "    </tr>\n",
       "    <tr>\n",
       "      <th>40450</th>\n",
       "      <td>40450</td>\n",
       "      <td>58</td>\n",
       "      <td>6</td>\n",
       "      <td>6</td>\n",
       "      <td>4</td>\n",
       "      <td>3261</td>\n",
       "      <td>1</td>\n",
       "      <td>4</td>\n",
       "      <td>1</td>\n",
       "      <td>0</td>\n",
       "      <td>899b9a314067a23557b5db9b87d3e599e2f3200bd69b6c...</td>\n",
       "      <td>63</td>\n",
       "    </tr>\n",
       "    <tr>\n",
       "      <th>40451</th>\n",
       "      <td>40451</td>\n",
       "      <td>55</td>\n",
       "      <td>7</td>\n",
       "      <td>7</td>\n",
       "      <td>4</td>\n",
       "      <td>6361</td>\n",
       "      <td>1</td>\n",
       "      <td>4</td>\n",
       "      <td>1</td>\n",
       "      <td>0</td>\n",
       "      <td>5c92d55ecbfdc0dc7a896d9dc73aaac8c14672bd047c45...</td>\n",
       "      <td>62</td>\n",
       "    </tr>\n",
       "    <tr>\n",
       "      <th>40452</th>\n",
       "      <td>40452</td>\n",
       "      <td>63</td>\n",
       "      <td>7</td>\n",
       "      <td>7</td>\n",
       "      <td>4</td>\n",
       "      <td>7959</td>\n",
       "      <td>2</td>\n",
       "      <td>4</td>\n",
       "      <td>1</td>\n",
       "      <td>0</td>\n",
       "      <td>5f395d07369071a505ef926527de2ac53e8c29e103dc63...</td>\n",
       "      <td>61</td>\n",
       "    </tr>\n",
       "    <tr>\n",
       "      <th>40453</th>\n",
       "      <td>40453</td>\n",
       "      <td>63</td>\n",
       "      <td>5</td>\n",
       "      <td>5</td>\n",
       "      <td>3</td>\n",
       "      <td>1255</td>\n",
       "      <td>0</td>\n",
       "      <td>4</td>\n",
       "      <td>1</td>\n",
       "      <td>0</td>\n",
       "      <td>2896a9c3f7fe3dc61c33003835e6e4002f935c401bbe3b...</td>\n",
       "      <td>57</td>\n",
       "    </tr>\n",
       "    <tr>\n",
       "      <th>40454</th>\n",
       "      <td>40454</td>\n",
       "      <td>56</td>\n",
       "      <td>7</td>\n",
       "      <td>7</td>\n",
       "      <td>4</td>\n",
       "      <td>4022</td>\n",
       "      <td>1</td>\n",
       "      <td>4</td>\n",
       "      <td>1</td>\n",
       "      <td>0</td>\n",
       "      <td>d3d3ef3813201e44fd555e3ff1b8456c6c4ad79d60a22a...</td>\n",
       "      <td>64</td>\n",
       "    </tr>\n",
       "  </tbody>\n",
       "</table>\n",
       "<p>40455 rows × 12 columns</p>\n",
       "</div>"
      ],
      "text/plain": [
       "       Unnamed: 0  table  x  y  z  price  carat  color-encoded  cut-encoded  \\\n",
       "0               0     58  6  6  4   4268      1              6            4   \n",
       "1               1     58  6  6  3   3513      1              6            4   \n",
       "2               2     58  5  5  3   1792      0              6            4   \n",
       "3               3     60  7  7  4   7553      1              6            4   \n",
       "4               4     62  5  5  3   1176      0              6            4   \n",
       "...           ...    ... .. .. ..    ...    ...            ...          ...   \n",
       "40450       40450     58  6  6  4   3261      1              4            1   \n",
       "40451       40451     55  7  7  4   6361      1              4            1   \n",
       "40452       40452     63  7  7  4   7959      2              4            1   \n",
       "40453       40453     63  5  5  3   1255      0              4            1   \n",
       "40454       40454     56  7  7  4   4022      1              4            1   \n",
       "\n",
       "       clarity-encoded                                           index_id  \\\n",
       "0                    4  5feceb66ffc86f38d952786c6d696c79c2dbc239dd4e91...   \n",
       "1                    4  41667f6e2629360aecaf00b20f8732e3310417ebd54b24...   \n",
       "2                    4  01f8667f50d52677bea23231a74156e4f92360d7bc3db6...   \n",
       "3                    4  c3867352aab641358faec75d733af012dbe2259a014ea8...   \n",
       "4                    4  0da4b104c4d8589fcb96a03aa0787549a2631935b0f499...   \n",
       "...                ...                                                ...   \n",
       "40450                0  899b9a314067a23557b5db9b87d3e599e2f3200bd69b6c...   \n",
       "40451                0  5c92d55ecbfdc0dc7a896d9dc73aaac8c14672bd047c45...   \n",
       "40452                0  5f395d07369071a505ef926527de2ac53e8c29e103dc63...   \n",
       "40453                0  2896a9c3f7fe3dc61c33003835e6e4002f935c401bbe3b...   \n",
       "40454                0  d3d3ef3813201e44fd555e3ff1b8456c6c4ad79d60a22a...   \n",
       "\n",
       "       depth  \n",
       "0         62  \n",
       "1         61  \n",
       "2         62  \n",
       "3         59  \n",
       "4         60  \n",
       "...      ...  \n",
       "40450     63  \n",
       "40451     62  \n",
       "40452     61  \n",
       "40453     57  \n",
       "40454     64  \n",
       "\n",
       "[40455 rows x 12 columns]"
      ]
     },
     "execution_count": 16,
     "metadata": {},
     "output_type": "execute_result"
    }
   ],
   "source": [
    "baseline3= pd.read_csv('./prueba3.csv')\n",
    "baseline3"
   ]
  },
  {
   "cell_type": "code",
   "execution_count": 17,
   "id": "1ee57633",
   "metadata": {},
   "outputs": [
    {
     "name": "stdout",
     "output_type": "stream",
     "text": [
      "<class 'pandas.core.frame.DataFrame'>\n",
      "RangeIndex: 40455 entries, 0 to 40454\n",
      "Data columns (total 12 columns):\n",
      " #   Column           Non-Null Count  Dtype \n",
      "---  ------           --------------  ----- \n",
      " 0   Unnamed: 0       40455 non-null  int64 \n",
      " 1   table            40455 non-null  int64 \n",
      " 2   x                40455 non-null  int64 \n",
      " 3   y                40455 non-null  int64 \n",
      " 4   z                40455 non-null  int64 \n",
      " 5   price            40455 non-null  int64 \n",
      " 6   carat            40455 non-null  int64 \n",
      " 7   color-encoded    40455 non-null  int64 \n",
      " 8   cut-encoded      40455 non-null  int64 \n",
      " 9   clarity-encoded  40455 non-null  int64 \n",
      " 10  index_id         40455 non-null  object\n",
      " 11  depth            40455 non-null  int64 \n",
      "dtypes: int64(11), object(1)\n",
      "memory usage: 3.7+ MB\n"
     ]
    }
   ],
   "source": [
    "baseline3.info()"
   ]
  },
  {
   "cell_type": "markdown",
   "id": "324181ca",
   "metadata": {},
   "source": [
    "## Features + target"
   ]
  },
  {
   "cell_type": "code",
   "execution_count": 18,
   "id": "18a6ac08",
   "metadata": {},
   "outputs": [
    {
     "name": "stdout",
     "output_type": "stream",
     "text": [
      "(40455, 9) (40455,)\n"
     ]
    }
   ],
   "source": [
    "\n",
    "X = baseline3[['depth',\n",
    "          'table',\n",
    "          'x',\n",
    "          'y',\n",
    "          'z',\n",
    "          'carat','color-encoded','cut-encoded', 'clarity-encoded'\n",
    "          ]]\n",
    "y = baseline3['price']\n",
    "print(X.shape,y.shape)"
   ]
  },
  {
   "cell_type": "markdown",
   "id": "de1d916d",
   "metadata": {},
   "source": [
    "## Train test split"
   ]
  },
  {
   "cell_type": "code",
   "execution_count": 19,
   "id": "a7094ed7",
   "metadata": {},
   "outputs": [
    {
     "name": "stdout",
     "output_type": "stream",
     "text": [
      "X_train: (32364, 9), X_test: (8091, 9), y_train: (32364,), y_test: (8091,)\n",
      "X_train: <class 'pandas.core.frame.DataFrame'>, X_test: <class 'pandas.core.frame.DataFrame'>, y_train: <class 'pandas.core.series.Series'>, y_test: <class 'pandas.core.series.Series'>\n"
     ]
    }
   ],
   "source": [
    "# Train + test\n",
    "\n",
    "X_train, X_test, y_train, y_test = train_test_split(X, y, test_size=0.2, random_state=42)\n",
    "print(f\"X_train: {X_train.shape}, X_test: {X_test.shape}, y_train: {y_train.shape}, y_test: {y_test.shape}\")\n",
    "print(f\"X_train: {type(X_train)}, X_test: {type(X_test)}, y_train: {type(y_train)}, y_test: {type(y_test)}\")"
   ]
  },
  {
   "cell_type": "code",
   "execution_count": 20,
   "id": "1a53437a",
   "metadata": {},
   "outputs": [
    {
     "name": "stdout",
     "output_type": "stream",
     "text": [
      "scaled_data es: [[ 0.          0.33333333 -0.5        ...  0.33333333  0.5\n",
      "   1.33333333]\n",
      " [ 0.          1.33333333 -0.5        ...  0.66666667  0.5\n",
      "  -0.66666667]\n",
      " [-2.          1.          1.         ...  0.         -0.5\n",
      "   1.33333333]\n",
      " ...\n",
      " [ 0.         -0.66666667 -0.5        ...  0.66666667  0.\n",
      "   0.66666667]\n",
      " [ 0.         -0.33333333  0.         ...  0.66666667  0.5\n",
      "   0.33333333]\n",
      " [ 1.          0.66666667  0.5        ...  0.         -0.5\n",
      "  -0.66666667]]\n",
      "las columnas de x_train son: Index(['depth', 'table', 'x', 'y', 'z', 'carat', 'color-encoded',\n",
      "       'cut-encoded', 'clarity-encoded'],\n",
      "      dtype='object')\n",
      "el dataframe test es :\n",
      "scaled_data es: [[ 0.         -1.33333333  0.5        ...  0.33333333 -0.5\n",
      "  -0.66666667]\n",
      " [ 0.          0.          0.         ... -0.66666667  0.\n",
      "  -0.66666667]\n",
      " [-1.         -0.66666667  0.         ... -0.66666667  0.\n",
      "   0.33333333]\n",
      " ...\n",
      " [ 2.          1.          0.5        ...  1.         -0.5\n",
      "  -0.66666667]\n",
      " [ 0.          0.66666667  0.         ... -0.66666667 -0.5\n",
      "   1.        ]\n",
      " [-2.          1.66666667  0.         ...  0.         -1.\n",
      "   0.        ]]\n",
      "las columnas de x_train son: Index(['depth', 'table', 'x', 'y', 'z', 'carat', 'color-encoded',\n",
      "       'cut-encoded', 'clarity-encoded'],\n",
      "      dtype='object')\n"
     ]
    }
   ],
   "source": [
    "# Scaling de X_train usin ROBUSTSCALER\n",
    "\n",
    "scaler = RobustScaler()  #solo se instancia una vez con el train\n",
    "scaled_data = scaler.fit_transform(X_train)  #solo para el train, fit, es entrenar con todos los datos\n",
    "print(f\"scaled_data es: {scaled_data}\")\n",
    "\n",
    "print(f\"las columnas de x_train son: {X_train.columns}\")\n",
    "\n",
    "scaled_df = pd.DataFrame(scaled_data, columns= X_train.columns)\n",
    "print(f\"el dataframe test es :\")\n",
    "scaled_df.head(5)\n",
    "\n",
    "\n",
    "# Scaling de X_test using ROBUSTSCALER\n",
    "\n",
    "scaled_data_test = scaler.transform(X_test) #no usas el fit porque ya esa parte la tienes arriba.\n",
    "print(f\"scaled_data es: {scaled_data_test}\")\n",
    "\n",
    "print(f\"las columnas de x_train son: {X_train.columns}\")\n",
    "\n",
    "scaled_df_test = pd.DataFrame(scaled_data_test, columns= X_test.columns)\n",
    "#print(f\"el dataframe test es :\")\n",
    "#scaled_df_test.head(5)"
   ]
  },
  {
   "cell_type": "markdown",
   "id": "f1ded5ab",
   "metadata": {},
   "source": [
    "## TRAIN MODEL"
   ]
  },
  {
   "cell_type": "code",
   "execution_count": 21,
   "id": "d7546212",
   "metadata": {},
   "outputs": [
    {
     "name": "stdout",
     "output_type": "stream",
     "text": [
      "CPU times: user 4.59 s, sys: 110 ms, total: 4.7 s\n",
      "Wall time: 4.77 s\n"
     ]
    },
    {
     "data": {
      "text/html": [
       "<style>#sk-container-id-3 {color: black;background-color: white;}#sk-container-id-3 pre{padding: 0;}#sk-container-id-3 div.sk-toggleable {background-color: white;}#sk-container-id-3 label.sk-toggleable__label {cursor: pointer;display: block;width: 100%;margin-bottom: 0;padding: 0.3em;box-sizing: border-box;text-align: center;}#sk-container-id-3 label.sk-toggleable__label-arrow:before {content: \"▸\";float: left;margin-right: 0.25em;color: #696969;}#sk-container-id-3 label.sk-toggleable__label-arrow:hover:before {color: black;}#sk-container-id-3 div.sk-estimator:hover label.sk-toggleable__label-arrow:before {color: black;}#sk-container-id-3 div.sk-toggleable__content {max-height: 0;max-width: 0;overflow: hidden;text-align: left;background-color: #f0f8ff;}#sk-container-id-3 div.sk-toggleable__content pre {margin: 0.2em;color: black;border-radius: 0.25em;background-color: #f0f8ff;}#sk-container-id-3 input.sk-toggleable__control:checked~div.sk-toggleable__content {max-height: 200px;max-width: 100%;overflow: auto;}#sk-container-id-3 input.sk-toggleable__control:checked~label.sk-toggleable__label-arrow:before {content: \"▾\";}#sk-container-id-3 div.sk-estimator input.sk-toggleable__control:checked~label.sk-toggleable__label {background-color: #d4ebff;}#sk-container-id-3 div.sk-label input.sk-toggleable__control:checked~label.sk-toggleable__label {background-color: #d4ebff;}#sk-container-id-3 input.sk-hidden--visually {border: 0;clip: rect(1px 1px 1px 1px);clip: rect(1px, 1px, 1px, 1px);height: 1px;margin: -1px;overflow: hidden;padding: 0;position: absolute;width: 1px;}#sk-container-id-3 div.sk-estimator {font-family: monospace;background-color: #f0f8ff;border: 1px dotted black;border-radius: 0.25em;box-sizing: border-box;margin-bottom: 0.5em;}#sk-container-id-3 div.sk-estimator:hover {background-color: #d4ebff;}#sk-container-id-3 div.sk-parallel-item::after {content: \"\";width: 100%;border-bottom: 1px solid gray;flex-grow: 1;}#sk-container-id-3 div.sk-label:hover label.sk-toggleable__label {background-color: #d4ebff;}#sk-container-id-3 div.sk-serial::before {content: \"\";position: absolute;border-left: 1px solid gray;box-sizing: border-box;top: 0;bottom: 0;left: 50%;z-index: 0;}#sk-container-id-3 div.sk-serial {display: flex;flex-direction: column;align-items: center;background-color: white;padding-right: 0.2em;padding-left: 0.2em;position: relative;}#sk-container-id-3 div.sk-item {position: relative;z-index: 1;}#sk-container-id-3 div.sk-parallel {display: flex;align-items: stretch;justify-content: center;background-color: white;position: relative;}#sk-container-id-3 div.sk-item::before, #sk-container-id-3 div.sk-parallel-item::before {content: \"\";position: absolute;border-left: 1px solid gray;box-sizing: border-box;top: 0;bottom: 0;left: 50%;z-index: -1;}#sk-container-id-3 div.sk-parallel-item {display: flex;flex-direction: column;z-index: 1;position: relative;background-color: white;}#sk-container-id-3 div.sk-parallel-item:first-child::after {align-self: flex-end;width: 50%;}#sk-container-id-3 div.sk-parallel-item:last-child::after {align-self: flex-start;width: 50%;}#sk-container-id-3 div.sk-parallel-item:only-child::after {width: 0;}#sk-container-id-3 div.sk-dashed-wrapped {border: 1px dashed gray;margin: 0 0.4em 0.5em 0.4em;box-sizing: border-box;padding-bottom: 0.4em;background-color: white;}#sk-container-id-3 div.sk-label label {font-family: monospace;font-weight: bold;display: inline-block;line-height: 1.2em;}#sk-container-id-3 div.sk-label-container {text-align: center;}#sk-container-id-3 div.sk-container {/* jupyter's `normalize.less` sets `[hidden] { display: none; }` but bootstrap.min.css set `[hidden] { display: none !important; }` so we also need the `!important` here to be able to override the default hidden behavior on the sphinx rendered scikit-learn.org. See: https://github.com/scikit-learn/scikit-learn/issues/21755 */display: inline-block !important;position: relative;}#sk-container-id-3 div.sk-text-repr-fallback {display: none;}</style><div id=\"sk-container-id-3\" class=\"sk-top-container\"><div class=\"sk-text-repr-fallback\"><pre>RandomForestRegressor()</pre><b>In a Jupyter environment, please rerun this cell to show the HTML representation or trust the notebook. <br />On GitHub, the HTML representation is unable to render, please try loading this page with nbviewer.org.</b></div><div class=\"sk-container\" hidden><div class=\"sk-item\"><div class=\"sk-estimator sk-toggleable\"><input class=\"sk-toggleable__control sk-hidden--visually\" id=\"sk-estimator-id-3\" type=\"checkbox\" checked><label for=\"sk-estimator-id-3\" class=\"sk-toggleable__label sk-toggleable__label-arrow\">RandomForestRegressor</label><div class=\"sk-toggleable__content\"><pre>RandomForestRegressor()</pre></div></div></div></div></div>"
      ],
      "text/plain": [
       "RandomForestRegressor()"
      ]
     },
     "execution_count": 21,
     "metadata": {},
     "output_type": "execute_result"
    }
   ],
   "source": [
    "%%time\n",
    "#FIT TRAIN\n",
    "regressor = RandomForestRegressor()\n",
    "hyperparameters = regressor.get_params()\n",
    "regressor.fit(X_train, y_train)\n"
   ]
  },
  {
   "cell_type": "code",
   "execution_count": 22,
   "id": "924e4482",
   "metadata": {},
   "outputs": [
    {
     "name": "stdout",
     "output_type": "stream",
     "text": [
      "CPU times: user 236 ms, sys: 5.16 ms, total: 241 ms\n",
      "Wall time: 243 ms\n"
     ]
    }
   ],
   "source": [
    "%%time\n",
    "# PREDICT\n",
    "y_pred = regressor.predict(X_test)"
   ]
  },
  {
   "cell_type": "code",
   "execution_count": 23,
   "id": "a1767f72",
   "metadata": {},
   "outputs": [
    {
     "data": {
      "text/plain": [
       "887.1360488955853"
      ]
     },
     "execution_count": 23,
     "metadata": {},
     "output_type": "execute_result"
    }
   ],
   "source": [
    "# RMSE calculation\n",
    "rmse = mean_squared_error(y_test, y_pred, squared=False)\n",
    "rmse"
   ]
  },
  {
   "cell_type": "markdown",
   "id": "57c41b2d",
   "metadata": {},
   "source": [
    "## ENTRENAMIENTO MODELO COMPLETO"
   ]
  },
  {
   "cell_type": "code",
   "execution_count": 24,
   "id": "f6000a8b",
   "metadata": {},
   "outputs": [
    {
     "data": {
      "text/html": [
       "<style>#sk-container-id-4 {color: black;background-color: white;}#sk-container-id-4 pre{padding: 0;}#sk-container-id-4 div.sk-toggleable {background-color: white;}#sk-container-id-4 label.sk-toggleable__label {cursor: pointer;display: block;width: 100%;margin-bottom: 0;padding: 0.3em;box-sizing: border-box;text-align: center;}#sk-container-id-4 label.sk-toggleable__label-arrow:before {content: \"▸\";float: left;margin-right: 0.25em;color: #696969;}#sk-container-id-4 label.sk-toggleable__label-arrow:hover:before {color: black;}#sk-container-id-4 div.sk-estimator:hover label.sk-toggleable__label-arrow:before {color: black;}#sk-container-id-4 div.sk-toggleable__content {max-height: 0;max-width: 0;overflow: hidden;text-align: left;background-color: #f0f8ff;}#sk-container-id-4 div.sk-toggleable__content pre {margin: 0.2em;color: black;border-radius: 0.25em;background-color: #f0f8ff;}#sk-container-id-4 input.sk-toggleable__control:checked~div.sk-toggleable__content {max-height: 200px;max-width: 100%;overflow: auto;}#sk-container-id-4 input.sk-toggleable__control:checked~label.sk-toggleable__label-arrow:before {content: \"▾\";}#sk-container-id-4 div.sk-estimator input.sk-toggleable__control:checked~label.sk-toggleable__label {background-color: #d4ebff;}#sk-container-id-4 div.sk-label input.sk-toggleable__control:checked~label.sk-toggleable__label {background-color: #d4ebff;}#sk-container-id-4 input.sk-hidden--visually {border: 0;clip: rect(1px 1px 1px 1px);clip: rect(1px, 1px, 1px, 1px);height: 1px;margin: -1px;overflow: hidden;padding: 0;position: absolute;width: 1px;}#sk-container-id-4 div.sk-estimator {font-family: monospace;background-color: #f0f8ff;border: 1px dotted black;border-radius: 0.25em;box-sizing: border-box;margin-bottom: 0.5em;}#sk-container-id-4 div.sk-estimator:hover {background-color: #d4ebff;}#sk-container-id-4 div.sk-parallel-item::after {content: \"\";width: 100%;border-bottom: 1px solid gray;flex-grow: 1;}#sk-container-id-4 div.sk-label:hover label.sk-toggleable__label {background-color: #d4ebff;}#sk-container-id-4 div.sk-serial::before {content: \"\";position: absolute;border-left: 1px solid gray;box-sizing: border-box;top: 0;bottom: 0;left: 50%;z-index: 0;}#sk-container-id-4 div.sk-serial {display: flex;flex-direction: column;align-items: center;background-color: white;padding-right: 0.2em;padding-left: 0.2em;position: relative;}#sk-container-id-4 div.sk-item {position: relative;z-index: 1;}#sk-container-id-4 div.sk-parallel {display: flex;align-items: stretch;justify-content: center;background-color: white;position: relative;}#sk-container-id-4 div.sk-item::before, #sk-container-id-4 div.sk-parallel-item::before {content: \"\";position: absolute;border-left: 1px solid gray;box-sizing: border-box;top: 0;bottom: 0;left: 50%;z-index: -1;}#sk-container-id-4 div.sk-parallel-item {display: flex;flex-direction: column;z-index: 1;position: relative;background-color: white;}#sk-container-id-4 div.sk-parallel-item:first-child::after {align-self: flex-end;width: 50%;}#sk-container-id-4 div.sk-parallel-item:last-child::after {align-self: flex-start;width: 50%;}#sk-container-id-4 div.sk-parallel-item:only-child::after {width: 0;}#sk-container-id-4 div.sk-dashed-wrapped {border: 1px dashed gray;margin: 0 0.4em 0.5em 0.4em;box-sizing: border-box;padding-bottom: 0.4em;background-color: white;}#sk-container-id-4 div.sk-label label {font-family: monospace;font-weight: bold;display: inline-block;line-height: 1.2em;}#sk-container-id-4 div.sk-label-container {text-align: center;}#sk-container-id-4 div.sk-container {/* jupyter's `normalize.less` sets `[hidden] { display: none; }` but bootstrap.min.css set `[hidden] { display: none !important; }` so we also need the `!important` here to be able to override the default hidden behavior on the sphinx rendered scikit-learn.org. See: https://github.com/scikit-learn/scikit-learn/issues/21755 */display: inline-block !important;position: relative;}#sk-container-id-4 div.sk-text-repr-fallback {display: none;}</style><div id=\"sk-container-id-4\" class=\"sk-top-container\"><div class=\"sk-text-repr-fallback\"><pre>RandomForestRegressor()</pre><b>In a Jupyter environment, please rerun this cell to show the HTML representation or trust the notebook. <br />On GitHub, the HTML representation is unable to render, please try loading this page with nbviewer.org.</b></div><div class=\"sk-container\" hidden><div class=\"sk-item\"><div class=\"sk-estimator sk-toggleable\"><input class=\"sk-toggleable__control sk-hidden--visually\" id=\"sk-estimator-id-4\" type=\"checkbox\" checked><label for=\"sk-estimator-id-4\" class=\"sk-toggleable__label sk-toggleable__label-arrow\">RandomForestRegressor</label><div class=\"sk-toggleable__content\"><pre>RandomForestRegressor()</pre></div></div></div></div></div>"
      ],
      "text/plain": [
       "RandomForestRegressor()"
      ]
     },
     "execution_count": 24,
     "metadata": {},
     "output_type": "execute_result"
    }
   ],
   "source": [
    "regressor = RandomForestRegressor()\n",
    "hyperparameters = regressor.get_params()\n",
    "regressor.fit(X, y)"
   ]
  },
  {
   "cell_type": "markdown",
   "id": "20d5442b",
   "metadata": {},
   "source": [
    "## TRAIN TEST KAGGLE"
   ]
  },
  {
   "cell_type": "code",
   "execution_count": 25,
   "id": "e85293d2",
   "metadata": {},
   "outputs": [
    {
     "data": {
      "text/html": [
       "<div>\n",
       "<style scoped>\n",
       "    .dataframe tbody tr th:only-of-type {\n",
       "        vertical-align: middle;\n",
       "    }\n",
       "\n",
       "    .dataframe tbody tr th {\n",
       "        vertical-align: top;\n",
       "    }\n",
       "\n",
       "    .dataframe thead th {\n",
       "        text-align: right;\n",
       "    }\n",
       "</style>\n",
       "<table border=\"1\" class=\"dataframe\">\n",
       "  <thead>\n",
       "    <tr style=\"text-align: right;\">\n",
       "      <th></th>\n",
       "      <th>Unnamed: 0</th>\n",
       "      <th>id</th>\n",
       "      <th>carat</th>\n",
       "      <th>depth</th>\n",
       "      <th>table</th>\n",
       "      <th>x</th>\n",
       "      <th>y</th>\n",
       "      <th>z</th>\n",
       "      <th>color-encoded</th>\n",
       "      <th>cut-encoded</th>\n",
       "      <th>clarity-encoded</th>\n",
       "    </tr>\n",
       "  </thead>\n",
       "  <tbody>\n",
       "    <tr>\n",
       "      <th>0</th>\n",
       "      <td>0</td>\n",
       "      <td>0</td>\n",
       "      <td>0.79</td>\n",
       "      <td>62.7</td>\n",
       "      <td>60.0</td>\n",
       "      <td>5.82</td>\n",
       "      <td>5.89</td>\n",
       "      <td>3.67</td>\n",
       "      <td>2.0</td>\n",
       "      <td>2.0</td>\n",
       "      <td>1.0</td>\n",
       "    </tr>\n",
       "    <tr>\n",
       "      <th>1</th>\n",
       "      <td>1</td>\n",
       "      <td>1</td>\n",
       "      <td>1.20</td>\n",
       "      <td>61.0</td>\n",
       "      <td>57.0</td>\n",
       "      <td>6.81</td>\n",
       "      <td>6.89</td>\n",
       "      <td>4.18</td>\n",
       "      <td>6.0</td>\n",
       "      <td>3.0</td>\n",
       "      <td>3.0</td>\n",
       "    </tr>\n",
       "    <tr>\n",
       "      <th>2</th>\n",
       "      <td>2</td>\n",
       "      <td>2</td>\n",
       "      <td>1.57</td>\n",
       "      <td>62.2</td>\n",
       "      <td>61.0</td>\n",
       "      <td>7.38</td>\n",
       "      <td>7.32</td>\n",
       "      <td>4.57</td>\n",
       "      <td>4.0</td>\n",
       "      <td>4.0</td>\n",
       "      <td>1.0</td>\n",
       "    </tr>\n",
       "    <tr>\n",
       "      <th>3</th>\n",
       "      <td>3</td>\n",
       "      <td>3</td>\n",
       "      <td>0.90</td>\n",
       "      <td>63.8</td>\n",
       "      <td>54.0</td>\n",
       "      <td>6.09</td>\n",
       "      <td>6.13</td>\n",
       "      <td>3.90</td>\n",
       "      <td>2.0</td>\n",
       "      <td>2.0</td>\n",
       "      <td>1.0</td>\n",
       "    </tr>\n",
       "    <tr>\n",
       "      <th>4</th>\n",
       "      <td>4</td>\n",
       "      <td>4</td>\n",
       "      <td>0.50</td>\n",
       "      <td>62.9</td>\n",
       "      <td>58.0</td>\n",
       "      <td>5.05</td>\n",
       "      <td>5.09</td>\n",
       "      <td>3.19</td>\n",
       "      <td>2.0</td>\n",
       "      <td>2.0</td>\n",
       "      <td>3.0</td>\n",
       "    </tr>\n",
       "    <tr>\n",
       "      <th>...</th>\n",
       "      <td>...</td>\n",
       "      <td>...</td>\n",
       "      <td>...</td>\n",
       "      <td>...</td>\n",
       "      <td>...</td>\n",
       "      <td>...</td>\n",
       "      <td>...</td>\n",
       "      <td>...</td>\n",
       "      <td>...</td>\n",
       "      <td>...</td>\n",
       "      <td>...</td>\n",
       "    </tr>\n",
       "    <tr>\n",
       "      <th>13480</th>\n",
       "      <td>13480</td>\n",
       "      <td>13480</td>\n",
       "      <td>0.57</td>\n",
       "      <td>61.9</td>\n",
       "      <td>56.0</td>\n",
       "      <td>5.35</td>\n",
       "      <td>5.32</td>\n",
       "      <td>3.30</td>\n",
       "      <td>1.0</td>\n",
       "      <td>3.0</td>\n",
       "      <td>1.0</td>\n",
       "    </tr>\n",
       "    <tr>\n",
       "      <th>13481</th>\n",
       "      <td>13481</td>\n",
       "      <td>13481</td>\n",
       "      <td>0.71</td>\n",
       "      <td>62.2</td>\n",
       "      <td>55.0</td>\n",
       "      <td>5.71</td>\n",
       "      <td>5.73</td>\n",
       "      <td>3.56</td>\n",
       "      <td>5.0</td>\n",
       "      <td>3.0</td>\n",
       "      <td>4.0</td>\n",
       "    </tr>\n",
       "    <tr>\n",
       "      <th>13482</th>\n",
       "      <td>13482</td>\n",
       "      <td>13482</td>\n",
       "      <td>0.70</td>\n",
       "      <td>61.6</td>\n",
       "      <td>55.0</td>\n",
       "      <td>5.75</td>\n",
       "      <td>5.71</td>\n",
       "      <td>3.53</td>\n",
       "      <td>2.0</td>\n",
       "      <td>3.0</td>\n",
       "      <td>3.0</td>\n",
       "    </tr>\n",
       "    <tr>\n",
       "      <th>13483</th>\n",
       "      <td>13483</td>\n",
       "      <td>13483</td>\n",
       "      <td>0.70</td>\n",
       "      <td>58.8</td>\n",
       "      <td>57.0</td>\n",
       "      <td>5.85</td>\n",
       "      <td>5.89</td>\n",
       "      <td>3.45</td>\n",
       "      <td>2.0</td>\n",
       "      <td>2.0</td>\n",
       "      <td>2.0</td>\n",
       "    </tr>\n",
       "    <tr>\n",
       "      <th>13484</th>\n",
       "      <td>13484</td>\n",
       "      <td>13484</td>\n",
       "      <td>0.40</td>\n",
       "      <td>62.4</td>\n",
       "      <td>55.0</td>\n",
       "      <td>4.70</td>\n",
       "      <td>4.73</td>\n",
       "      <td>2.94</td>\n",
       "      <td>5.0</td>\n",
       "      <td>3.0</td>\n",
       "      <td>6.0</td>\n",
       "    </tr>\n",
       "  </tbody>\n",
       "</table>\n",
       "<p>13485 rows × 11 columns</p>\n",
       "</div>"
      ],
      "text/plain": [
       "       Unnamed: 0     id  carat  depth  table     x     y     z  \\\n",
       "0               0      0   0.79   62.7   60.0  5.82  5.89  3.67   \n",
       "1               1      1   1.20   61.0   57.0  6.81  6.89  4.18   \n",
       "2               2      2   1.57   62.2   61.0  7.38  7.32  4.57   \n",
       "3               3      3   0.90   63.8   54.0  6.09  6.13  3.90   \n",
       "4               4      4   0.50   62.9   58.0  5.05  5.09  3.19   \n",
       "...           ...    ...    ...    ...    ...   ...   ...   ...   \n",
       "13480       13480  13480   0.57   61.9   56.0  5.35  5.32  3.30   \n",
       "13481       13481  13481   0.71   62.2   55.0  5.71  5.73  3.56   \n",
       "13482       13482  13482   0.70   61.6   55.0  5.75  5.71  3.53   \n",
       "13483       13483  13483   0.70   58.8   57.0  5.85  5.89  3.45   \n",
       "13484       13484  13484   0.40   62.4   55.0  4.70  4.73  2.94   \n",
       "\n",
       "       color-encoded  cut-encoded  clarity-encoded  \n",
       "0                2.0          2.0              1.0  \n",
       "1                6.0          3.0              3.0  \n",
       "2                4.0          4.0              1.0  \n",
       "3                2.0          2.0              1.0  \n",
       "4                2.0          2.0              3.0  \n",
       "...              ...          ...              ...  \n",
       "13480            1.0          3.0              1.0  \n",
       "13481            5.0          3.0              4.0  \n",
       "13482            2.0          3.0              3.0  \n",
       "13483            2.0          2.0              2.0  \n",
       "13484            5.0          3.0              6.0  \n",
       "\n",
       "[13485 rows x 11 columns]"
      ]
     },
     "execution_count": 25,
     "metadata": {},
     "output_type": "execute_result"
    }
   ],
   "source": [
    "#Entrenamiento kaggle_test\n",
    "kaggle3= pd.read_csv('../data_2/processing_diamonds_test3.csv')\n",
    "kaggle3\n"
   ]
  },
  {
   "cell_type": "code",
   "execution_count": 26,
   "id": "fadfadd8",
   "metadata": {},
   "outputs": [],
   "source": [
    "#FEATURES\n",
    "X_kag = kaggle3[['depth',\n",
    "          'table',\n",
    "          'x',\n",
    "          'y',\n",
    "          'z',\n",
    "          'carat','color-encoded','cut-encoded', 'clarity-encoded'\n",
    "          ]]"
   ]
  },
  {
   "cell_type": "code",
   "execution_count": 27,
   "id": "0b2d0d90",
   "metadata": {},
   "outputs": [
    {
     "data": {
      "text/plain": [
       "array([ 5775.89311905,  8399.87882143, 16230.74      , ...,\n",
       "        8791.8658575 ,  3822.846     ,  2481.60082143])"
      ]
     },
     "execution_count": 27,
     "metadata": {},
     "output_type": "execute_result"
    }
   ],
   "source": [
    "y_pred_kag = regressor.predict(X_kag)\n",
    "y_pred_kag"
   ]
  },
  {
   "cell_type": "code",
   "execution_count": 29,
   "id": "e108d847",
   "metadata": {},
   "outputs": [
    {
     "data": {
      "text/html": [
       "<div>\n",
       "<style scoped>\n",
       "    .dataframe tbody tr th:only-of-type {\n",
       "        vertical-align: middle;\n",
       "    }\n",
       "\n",
       "    .dataframe tbody tr th {\n",
       "        vertical-align: top;\n",
       "    }\n",
       "\n",
       "    .dataframe thead th {\n",
       "        text-align: right;\n",
       "    }\n",
       "</style>\n",
       "<table border=\"1\" class=\"dataframe\">\n",
       "  <thead>\n",
       "    <tr style=\"text-align: right;\">\n",
       "      <th></th>\n",
       "      <th>price</th>\n",
       "    </tr>\n",
       "    <tr>\n",
       "      <th>id</th>\n",
       "      <th></th>\n",
       "    </tr>\n",
       "  </thead>\n",
       "  <tbody>\n",
       "    <tr>\n",
       "      <th>0</th>\n",
       "      <td>5775.893119</td>\n",
       "    </tr>\n",
       "    <tr>\n",
       "      <th>1</th>\n",
       "      <td>8399.878821</td>\n",
       "    </tr>\n",
       "    <tr>\n",
       "      <th>2</th>\n",
       "      <td>16230.740000</td>\n",
       "    </tr>\n",
       "    <tr>\n",
       "      <th>3</th>\n",
       "      <td>5537.912591</td>\n",
       "    </tr>\n",
       "    <tr>\n",
       "      <th>4</th>\n",
       "      <td>3010.457131</td>\n",
       "    </tr>\n",
       "    <tr>\n",
       "      <th>...</th>\n",
       "      <td>...</td>\n",
       "    </tr>\n",
       "    <tr>\n",
       "      <th>13480</th>\n",
       "      <td>5014.360500</td>\n",
       "    </tr>\n",
       "    <tr>\n",
       "      <th>13481</th>\n",
       "      <td>5504.090221</td>\n",
       "    </tr>\n",
       "    <tr>\n",
       "      <th>13482</th>\n",
       "      <td>8791.865858</td>\n",
       "    </tr>\n",
       "    <tr>\n",
       "      <th>13483</th>\n",
       "      <td>3822.846000</td>\n",
       "    </tr>\n",
       "    <tr>\n",
       "      <th>13484</th>\n",
       "      <td>2481.600821</td>\n",
       "    </tr>\n",
       "  </tbody>\n",
       "</table>\n",
       "<p>13485 rows × 1 columns</p>\n",
       "</div>"
      ],
      "text/plain": [
       "              price\n",
       "id                 \n",
       "0       5775.893119\n",
       "1       8399.878821\n",
       "2      16230.740000\n",
       "3       5537.912591\n",
       "4       3010.457131\n",
       "...             ...\n",
       "13480   5014.360500\n",
       "13481   5504.090221\n",
       "13482   8791.865858\n",
       "13483   3822.846000\n",
       "13484   2481.600821\n",
       "\n",
       "[13485 rows x 1 columns]"
      ]
     },
     "execution_count": 29,
     "metadata": {},
     "output_type": "execute_result"
    }
   ],
   "source": [
    "tried3 = pd.DataFrame(y_pred_kag).rename(columns = {0:'price'})\n",
    "tried3.index.names = ['id']\n",
    "tried3"
   ]
  },
  {
   "cell_type": "code",
   "execution_count": 31,
   "id": "02bb29c6",
   "metadata": {},
   "outputs": [],
   "source": [
    "tried3.to_csv('../try/try3.csv')"
   ]
  },
  {
   "cell_type": "code",
   "execution_count": null,
   "id": "9e6a5a6d",
   "metadata": {},
   "outputs": [],
   "source": []
  }
 ],
 "metadata": {
  "kernelspec": {
   "display_name": "Python [conda env:m3_env]",
   "language": "python",
   "name": "conda-env-m3_env-py"
  },
  "language_info": {
   "codemirror_mode": {
    "name": "ipython",
    "version": 3
   },
   "file_extension": ".py",
   "mimetype": "text/x-python",
   "name": "python",
   "nbconvert_exporter": "python",
   "pygments_lexer": "ipython3",
   "version": "3.9.16"
  }
 },
 "nbformat": 4,
 "nbformat_minor": 5
}
