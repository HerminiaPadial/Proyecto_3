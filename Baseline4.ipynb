{
 "cells": [
  {
   "cell_type": "code",
   "execution_count": 14,
   "id": "56a309bf",
   "metadata": {},
   "outputs": [
    {
     "name": "stdout",
     "output_type": "stream",
     "text": [
      "Requirement already satisfied: scikit-learn in /Applications/miniconda3/envs/m3_env/lib/python3.9/site-packages (1.2.2)\n",
      "Requirement already satisfied: threadpoolctl>=2.0.0 in /Applications/miniconda3/envs/m3_env/lib/python3.9/site-packages (from scikit-learn) (3.1.0)\n",
      "Requirement already satisfied: numpy>=1.17.3 in /Applications/miniconda3/envs/m3_env/lib/python3.9/site-packages (from scikit-learn) (1.24.3)\n",
      "Requirement already satisfied: joblib>=1.1.1 in /Applications/miniconda3/envs/m3_env/lib/python3.9/site-packages (from scikit-learn) (1.2.0)\n",
      "Requirement already satisfied: scipy>=1.3.2 in /Applications/miniconda3/envs/m3_env/lib/python3.9/site-packages (from scikit-learn) (1.10.1)\n"
     ]
    }
   ],
   "source": [
    "!pip install scikit-learn\n"
   ]
  },
  {
   "cell_type": "markdown",
   "id": "427f5fa7",
   "metadata": {},
   "source": [
    "## IMPORTS"
   ]
  },
  {
   "cell_type": "code",
   "execution_count": 1,
   "id": "1cd5db6b",
   "metadata": {},
   "outputs": [],
   "source": [
    "\n",
    "import numpy as np\n",
    "import pandas as pd\n",
    "import sklearn\n",
    "from sklearn.ensemble import RandomForestRegressor\n",
    "from sklearn.preprocessing import RobustScaler, StandardScaler\n",
    "from sklearn.preprocessing import OneHotEncoder, OrdinalEncoder\n",
    "from sklearn.model_selection import train_test_split\n",
    "from sklearn.linear_model import LogisticRegression\n",
    "from sklearn.ensemble import RandomForestClassifier\n",
    "from sklearn.metrics import roc_auc_score\n",
    "from sklearn.linear_model import LinearRegression\n",
    "from sklearn.metrics import mean_squared_error\n"
   ]
  },
  {
   "cell_type": "markdown",
   "id": "c3919896",
   "metadata": {},
   "source": [
    "## READ ORIGINAL"
   ]
  },
  {
   "cell_type": "code",
   "execution_count": 2,
   "id": "1ba0494e",
   "metadata": {},
   "outputs": [
    {
     "data": {
      "text/html": [
       "<div>\n",
       "<style scoped>\n",
       "    .dataframe tbody tr th:only-of-type {\n",
       "        vertical-align: middle;\n",
       "    }\n",
       "\n",
       "    .dataframe tbody tr th {\n",
       "        vertical-align: top;\n",
       "    }\n",
       "\n",
       "    .dataframe thead th {\n",
       "        text-align: right;\n",
       "    }\n",
       "</style>\n",
       "<table border=\"1\" class=\"dataframe\">\n",
       "  <thead>\n",
       "    <tr style=\"text-align: right;\">\n",
       "      <th></th>\n",
       "      <th>Unnamed: 0</th>\n",
       "      <th>index_id</th>\n",
       "      <th>depth</th>\n",
       "      <th>table</th>\n",
       "      <th>x</th>\n",
       "      <th>y</th>\n",
       "      <th>z</th>\n",
       "      <th>price</th>\n",
       "      <th>color-encoded</th>\n",
       "      <th>clarity-encoded</th>\n",
       "      <th>cut-carat</th>\n",
       "    </tr>\n",
       "  </thead>\n",
       "  <tbody>\n",
       "    <tr>\n",
       "      <th>0</th>\n",
       "      <td>0</td>\n",
       "      <td>5feceb66ffc86f38d952786c6d696c79c2dbc239dd4e91...</td>\n",
       "      <td>62.4</td>\n",
       "      <td>58.0</td>\n",
       "      <td>6.83</td>\n",
       "      <td>6.79</td>\n",
       "      <td>4.25</td>\n",
       "      <td>4268</td>\n",
       "      <td>6.0</td>\n",
       "      <td>4.0</td>\n",
       "      <td>4.84</td>\n",
       "    </tr>\n",
       "    <tr>\n",
       "      <th>1</th>\n",
       "      <td>1</td>\n",
       "      <td>41667f6e2629360aecaf00b20f8732e3310417ebd54b24...</td>\n",
       "      <td>61.6</td>\n",
       "      <td>58.0</td>\n",
       "      <td>6.40</td>\n",
       "      <td>6.35</td>\n",
       "      <td>3.93</td>\n",
       "      <td>3513</td>\n",
       "      <td>6.0</td>\n",
       "      <td>4.0</td>\n",
       "      <td>4.08</td>\n",
       "    </tr>\n",
       "    <tr>\n",
       "      <th>2</th>\n",
       "      <td>2</td>\n",
       "      <td>01f8667f50d52677bea23231a74156e4f92360d7bc3db6...</td>\n",
       "      <td>62.3</td>\n",
       "      <td>58.0</td>\n",
       "      <td>5.86</td>\n",
       "      <td>5.80</td>\n",
       "      <td>3.63</td>\n",
       "      <td>1792</td>\n",
       "      <td>6.0</td>\n",
       "      <td>4.0</td>\n",
       "      <td>3.08</td>\n",
       "    </tr>\n",
       "    <tr>\n",
       "      <th>3</th>\n",
       "      <td>3</td>\n",
       "      <td>c3867352aab641358faec75d733af012dbe2259a014ea8...</td>\n",
       "      <td>59.6</td>\n",
       "      <td>60.0</td>\n",
       "      <td>7.58</td>\n",
       "      <td>7.48</td>\n",
       "      <td>4.49</td>\n",
       "      <td>7553</td>\n",
       "      <td>6.0</td>\n",
       "      <td>4.0</td>\n",
       "      <td>6.04</td>\n",
       "    </tr>\n",
       "    <tr>\n",
       "      <th>4</th>\n",
       "      <td>4</td>\n",
       "      <td>0da4b104c4d8589fcb96a03aa0787549a2631935b0f499...</td>\n",
       "      <td>60.2</td>\n",
       "      <td>62.0</td>\n",
       "      <td>5.40</td>\n",
       "      <td>5.33</td>\n",
       "      <td>3.23</td>\n",
       "      <td>1176</td>\n",
       "      <td>6.0</td>\n",
       "      <td>4.0</td>\n",
       "      <td>2.28</td>\n",
       "    </tr>\n",
       "    <tr>\n",
       "      <th>...</th>\n",
       "      <td>...</td>\n",
       "      <td>...</td>\n",
       "      <td>...</td>\n",
       "      <td>...</td>\n",
       "      <td>...</td>\n",
       "      <td>...</td>\n",
       "      <td>...</td>\n",
       "      <td>...</td>\n",
       "      <td>...</td>\n",
       "      <td>...</td>\n",
       "      <td>...</td>\n",
       "    </tr>\n",
       "    <tr>\n",
       "      <th>40450</th>\n",
       "      <td>40450</td>\n",
       "      <td>899b9a314067a23557b5db9b87d3e599e2f3200bd69b6c...</td>\n",
       "      <td>63.9</td>\n",
       "      <td>58.0</td>\n",
       "      <td>6.42</td>\n",
       "      <td>6.35</td>\n",
       "      <td>4.08</td>\n",
       "      <td>3261</td>\n",
       "      <td>4.0</td>\n",
       "      <td>0.0</td>\n",
       "      <td>1.04</td>\n",
       "    </tr>\n",
       "    <tr>\n",
       "      <th>40451</th>\n",
       "      <td>40451</td>\n",
       "      <td>5c92d55ecbfdc0dc7a896d9dc73aaac8c14672bd047c45...</td>\n",
       "      <td>62.3</td>\n",
       "      <td>55.6</td>\n",
       "      <td>7.34</td>\n",
       "      <td>7.38</td>\n",
       "      <td>4.59</td>\n",
       "      <td>6361</td>\n",
       "      <td>4.0</td>\n",
       "      <td>0.0</td>\n",
       "      <td>1.53</td>\n",
       "    </tr>\n",
       "    <tr>\n",
       "      <th>40452</th>\n",
       "      <td>40452</td>\n",
       "      <td>5f395d07369071a505ef926527de2ac53e8c29e103dc63...</td>\n",
       "      <td>61.7</td>\n",
       "      <td>63.0</td>\n",
       "      <td>7.91</td>\n",
       "      <td>7.94</td>\n",
       "      <td>4.89</td>\n",
       "      <td>7959</td>\n",
       "      <td>4.0</td>\n",
       "      <td>0.0</td>\n",
       "      <td>2.01</td>\n",
       "    </tr>\n",
       "    <tr>\n",
       "      <th>40453</th>\n",
       "      <td>40453</td>\n",
       "      <td>2896a9c3f7fe3dc61c33003835e6e4002f935c401bbe3b...</td>\n",
       "      <td>57.4</td>\n",
       "      <td>63.0</td>\n",
       "      <td>5.89</td>\n",
       "      <td>5.80</td>\n",
       "      <td>3.36</td>\n",
       "      <td>1255</td>\n",
       "      <td>4.0</td>\n",
       "      <td>0.0</td>\n",
       "      <td>0.70</td>\n",
       "    </tr>\n",
       "    <tr>\n",
       "      <th>40454</th>\n",
       "      <td>40454</td>\n",
       "      <td>d3d3ef3813201e44fd555e3ff1b8456c6c4ad79d60a22a...</td>\n",
       "      <td>64.0</td>\n",
       "      <td>56.0</td>\n",
       "      <td>7.18</td>\n",
       "      <td>7.05</td>\n",
       "      <td>4.56</td>\n",
       "      <td>4022</td>\n",
       "      <td>4.0</td>\n",
       "      <td>0.0</td>\n",
       "      <td>1.50</td>\n",
       "    </tr>\n",
       "  </tbody>\n",
       "</table>\n",
       "<p>40455 rows × 11 columns</p>\n",
       "</div>"
      ],
      "text/plain": [
       "       Unnamed: 0                                           index_id  depth  \\\n",
       "0               0  5feceb66ffc86f38d952786c6d696c79c2dbc239dd4e91...   62.4   \n",
       "1               1  41667f6e2629360aecaf00b20f8732e3310417ebd54b24...   61.6   \n",
       "2               2  01f8667f50d52677bea23231a74156e4f92360d7bc3db6...   62.3   \n",
       "3               3  c3867352aab641358faec75d733af012dbe2259a014ea8...   59.6   \n",
       "4               4  0da4b104c4d8589fcb96a03aa0787549a2631935b0f499...   60.2   \n",
       "...           ...                                                ...    ...   \n",
       "40450       40450  899b9a314067a23557b5db9b87d3e599e2f3200bd69b6c...   63.9   \n",
       "40451       40451  5c92d55ecbfdc0dc7a896d9dc73aaac8c14672bd047c45...   62.3   \n",
       "40452       40452  5f395d07369071a505ef926527de2ac53e8c29e103dc63...   61.7   \n",
       "40453       40453  2896a9c3f7fe3dc61c33003835e6e4002f935c401bbe3b...   57.4   \n",
       "40454       40454  d3d3ef3813201e44fd555e3ff1b8456c6c4ad79d60a22a...   64.0   \n",
       "\n",
       "       table     x     y     z  price  color-encoded  clarity-encoded  \\\n",
       "0       58.0  6.83  6.79  4.25   4268            6.0              4.0   \n",
       "1       58.0  6.40  6.35  3.93   3513            6.0              4.0   \n",
       "2       58.0  5.86  5.80  3.63   1792            6.0              4.0   \n",
       "3       60.0  7.58  7.48  4.49   7553            6.0              4.0   \n",
       "4       62.0  5.40  5.33  3.23   1176            6.0              4.0   \n",
       "...      ...   ...   ...   ...    ...            ...              ...   \n",
       "40450   58.0  6.42  6.35  4.08   3261            4.0              0.0   \n",
       "40451   55.6  7.34  7.38  4.59   6361            4.0              0.0   \n",
       "40452   63.0  7.91  7.94  4.89   7959            4.0              0.0   \n",
       "40453   63.0  5.89  5.80  3.36   1255            4.0              0.0   \n",
       "40454   56.0  7.18  7.05  4.56   4022            4.0              0.0   \n",
       "\n",
       "       cut-carat  \n",
       "0           4.84  \n",
       "1           4.08  \n",
       "2           3.08  \n",
       "3           6.04  \n",
       "4           2.28  \n",
       "...          ...  \n",
       "40450       1.04  \n",
       "40451       1.53  \n",
       "40452       2.01  \n",
       "40453       0.70  \n",
       "40454       1.50  \n",
       "\n",
       "[40455 rows x 11 columns]"
      ]
     },
     "execution_count": 2,
     "metadata": {},
     "output_type": "execute_result"
    }
   ],
   "source": [
    "baseline4= pd.read_csv('./prueba4.csv')\n",
    "baseline4"
   ]
  },
  {
   "cell_type": "code",
   "execution_count": 3,
   "id": "1ee57633",
   "metadata": {},
   "outputs": [
    {
     "name": "stdout",
     "output_type": "stream",
     "text": [
      "<class 'pandas.core.frame.DataFrame'>\n",
      "RangeIndex: 40455 entries, 0 to 40454\n",
      "Data columns (total 11 columns):\n",
      " #   Column           Non-Null Count  Dtype  \n",
      "---  ------           --------------  -----  \n",
      " 0   Unnamed: 0       40455 non-null  int64  \n",
      " 1   index_id         40455 non-null  object \n",
      " 2   depth            40455 non-null  float64\n",
      " 3   table            40455 non-null  float64\n",
      " 4   x                40455 non-null  float64\n",
      " 5   y                40455 non-null  float64\n",
      " 6   z                40455 non-null  float64\n",
      " 7   price            40455 non-null  int64  \n",
      " 8   color-encoded    40455 non-null  float64\n",
      " 9   clarity-encoded  40455 non-null  float64\n",
      " 10  cut-carat        40455 non-null  float64\n",
      "dtypes: float64(8), int64(2), object(1)\n",
      "memory usage: 3.4+ MB\n"
     ]
    }
   ],
   "source": [
    "baseline4.info()"
   ]
  },
  {
   "cell_type": "markdown",
   "id": "324181ca",
   "metadata": {},
   "source": [
    "## Features + target"
   ]
  },
  {
   "cell_type": "code",
   "execution_count": 6,
   "id": "18a6ac08",
   "metadata": {},
   "outputs": [
    {
     "name": "stdout",
     "output_type": "stream",
     "text": [
      "(40455, 8) (40455,)\n"
     ]
    }
   ],
   "source": [
    "\n",
    "X = baseline4[['depth',\n",
    "          'table',\n",
    "          'x',\n",
    "          'y',\n",
    "          'z',\n",
    "          'cut-carat','color-encoded', 'clarity-encoded'\n",
    "          ]]\n",
    "y = baseline4['price']\n",
    "print(X.shape,y.shape)"
   ]
  },
  {
   "cell_type": "markdown",
   "id": "de1d916d",
   "metadata": {},
   "source": [
    "## Train test split"
   ]
  },
  {
   "cell_type": "code",
   "execution_count": 7,
   "id": "a7094ed7",
   "metadata": {},
   "outputs": [
    {
     "name": "stdout",
     "output_type": "stream",
     "text": [
      "X_train: (32364, 8), X_test: (8091, 8), y_train: (32364,), y_test: (8091,)\n",
      "X_train: <class 'pandas.core.frame.DataFrame'>, X_test: <class 'pandas.core.frame.DataFrame'>, y_train: <class 'pandas.core.series.Series'>, y_test: <class 'pandas.core.series.Series'>\n"
     ]
    }
   ],
   "source": [
    "# Train + test\n",
    "\n",
    "X_train, X_test, y_train, y_test = train_test_split(X, y, test_size=0.2, random_state=42)\n",
    "print(f\"X_train: {X_train.shape}, X_test: {X_test.shape}, y_train: {y_train.shape}, y_test: {y_test.shape}\")\n",
    "print(f\"X_train: {type(X_train)}, X_test: {type(X_test)}, y_train: {type(y_train)}, y_test: {type(y_test)}\")"
   ]
  },
  {
   "cell_type": "code",
   "execution_count": 8,
   "id": "1a53437a",
   "metadata": {},
   "outputs": [
    {
     "name": "stdout",
     "output_type": "stream",
     "text": [
      "scaled_data es: [[-0.4         0.33333333 -0.72677596 ... -0.16666667  0.33333333\n",
      "   1.33333333]\n",
      " [ 0.06666667  1.33333333 -0.7704918  ... -0.20588235  0.66666667\n",
      "  -0.66666667]\n",
      " [-1.6         1.          1.01092896 ...  0.71568627  0.\n",
      "   1.33333333]\n",
      " ...\n",
      " [ 0.06666667 -0.66666667 -0.71038251 ... -0.32352941  0.66666667\n",
      "   0.66666667]\n",
      " [ 0.         -0.33333333 -0.1420765  ...  0.40196078  0.66666667\n",
      "   0.33333333]\n",
      " [ 0.53333333  0.66666667  0.32240437 ...  0.18627451  0.\n",
      "  -0.66666667]]\n",
      "las columnas de x_train son: Index(['depth', 'table', 'x', 'y', 'z', 'cut-carat', 'color-encoded',\n",
      "       'clarity-encoded'],\n",
      "      dtype='object')\n",
      "el dataframe test es :\n",
      "scaled_data es: [[ 0.         -1.33333333  0.50273224 ...  0.26470588  0.33333333\n",
      "  -0.66666667]\n",
      " [-0.13333333  0.          0.06010929 ...  0.27941176 -0.66666667\n",
      "  -0.66666667]\n",
      " [-1.06666667 -0.66666667  0.09289617 ...  0.29411765 -0.66666667\n",
      "   0.33333333]\n",
      " ...\n",
      " [ 0.93333333  1.          0.2295082  ...  0.08823529  1.\n",
      "  -0.66666667]\n",
      " [-0.06666667  0.66666667 -0.18032787 ... -0.21568627 -0.66666667\n",
      "   1.        ]\n",
      " [-1.86666667  1.66666667 -0.1420765  ... -0.50980392  0.\n",
      "   0.        ]]\n",
      "las columnas de x_train son: Index(['depth', 'table', 'x', 'y', 'z', 'cut-carat', 'color-encoded',\n",
      "       'clarity-encoded'],\n",
      "      dtype='object')\n"
     ]
    }
   ],
   "source": [
    "# Scaling de X_train usin ROBUSTSCALER\n",
    "\n",
    "scaler = RobustScaler()  #solo se instancia una vez con el train\n",
    "scaled_data = scaler.fit_transform(X_train)  #solo para el train, fit, es entrenar con todos los datos\n",
    "print(f\"scaled_data es: {scaled_data}\")\n",
    "\n",
    "print(f\"las columnas de x_train son: {X_train.columns}\")\n",
    "\n",
    "scaled_df = pd.DataFrame(scaled_data, columns= X_train.columns)\n",
    "print(f\"el dataframe test es :\")\n",
    "scaled_df.head(5)\n",
    "\n",
    "\n",
    "# Scaling de X_test using ROBUSTSCALER\n",
    "\n",
    "scaled_data_test = scaler.transform(X_test) #no usas el fit porque ya esa parte la tienes arriba.\n",
    "print(f\"scaled_data es: {scaled_data_test}\")\n",
    "\n",
    "print(f\"las columnas de x_train son: {X_train.columns}\")\n",
    "\n",
    "scaled_df_test = pd.DataFrame(scaled_data_test, columns= X_test.columns)\n",
    "#print(f\"el dataframe test es :\")\n",
    "#scaled_df_test.head(5)"
   ]
  },
  {
   "cell_type": "markdown",
   "id": "f1ded5ab",
   "metadata": {},
   "source": [
    "## TRAIN MODEL"
   ]
  },
  {
   "cell_type": "code",
   "execution_count": 9,
   "id": "d7546212",
   "metadata": {},
   "outputs": [
    {
     "name": "stdout",
     "output_type": "stream",
     "text": [
      "CPU times: user 12 s, sys: 184 ms, total: 12.2 s\n",
      "Wall time: 12.4 s\n"
     ]
    },
    {
     "data": {
      "text/html": [
       "<style>#sk-container-id-1 {color: black;background-color: white;}#sk-container-id-1 pre{padding: 0;}#sk-container-id-1 div.sk-toggleable {background-color: white;}#sk-container-id-1 label.sk-toggleable__label {cursor: pointer;display: block;width: 100%;margin-bottom: 0;padding: 0.3em;box-sizing: border-box;text-align: center;}#sk-container-id-1 label.sk-toggleable__label-arrow:before {content: \"▸\";float: left;margin-right: 0.25em;color: #696969;}#sk-container-id-1 label.sk-toggleable__label-arrow:hover:before {color: black;}#sk-container-id-1 div.sk-estimator:hover label.sk-toggleable__label-arrow:before {color: black;}#sk-container-id-1 div.sk-toggleable__content {max-height: 0;max-width: 0;overflow: hidden;text-align: left;background-color: #f0f8ff;}#sk-container-id-1 div.sk-toggleable__content pre {margin: 0.2em;color: black;border-radius: 0.25em;background-color: #f0f8ff;}#sk-container-id-1 input.sk-toggleable__control:checked~div.sk-toggleable__content {max-height: 200px;max-width: 100%;overflow: auto;}#sk-container-id-1 input.sk-toggleable__control:checked~label.sk-toggleable__label-arrow:before {content: \"▾\";}#sk-container-id-1 div.sk-estimator input.sk-toggleable__control:checked~label.sk-toggleable__label {background-color: #d4ebff;}#sk-container-id-1 div.sk-label input.sk-toggleable__control:checked~label.sk-toggleable__label {background-color: #d4ebff;}#sk-container-id-1 input.sk-hidden--visually {border: 0;clip: rect(1px 1px 1px 1px);clip: rect(1px, 1px, 1px, 1px);height: 1px;margin: -1px;overflow: hidden;padding: 0;position: absolute;width: 1px;}#sk-container-id-1 div.sk-estimator {font-family: monospace;background-color: #f0f8ff;border: 1px dotted black;border-radius: 0.25em;box-sizing: border-box;margin-bottom: 0.5em;}#sk-container-id-1 div.sk-estimator:hover {background-color: #d4ebff;}#sk-container-id-1 div.sk-parallel-item::after {content: \"\";width: 100%;border-bottom: 1px solid gray;flex-grow: 1;}#sk-container-id-1 div.sk-label:hover label.sk-toggleable__label {background-color: #d4ebff;}#sk-container-id-1 div.sk-serial::before {content: \"\";position: absolute;border-left: 1px solid gray;box-sizing: border-box;top: 0;bottom: 0;left: 50%;z-index: 0;}#sk-container-id-1 div.sk-serial {display: flex;flex-direction: column;align-items: center;background-color: white;padding-right: 0.2em;padding-left: 0.2em;position: relative;}#sk-container-id-1 div.sk-item {position: relative;z-index: 1;}#sk-container-id-1 div.sk-parallel {display: flex;align-items: stretch;justify-content: center;background-color: white;position: relative;}#sk-container-id-1 div.sk-item::before, #sk-container-id-1 div.sk-parallel-item::before {content: \"\";position: absolute;border-left: 1px solid gray;box-sizing: border-box;top: 0;bottom: 0;left: 50%;z-index: -1;}#sk-container-id-1 div.sk-parallel-item {display: flex;flex-direction: column;z-index: 1;position: relative;background-color: white;}#sk-container-id-1 div.sk-parallel-item:first-child::after {align-self: flex-end;width: 50%;}#sk-container-id-1 div.sk-parallel-item:last-child::after {align-self: flex-start;width: 50%;}#sk-container-id-1 div.sk-parallel-item:only-child::after {width: 0;}#sk-container-id-1 div.sk-dashed-wrapped {border: 1px dashed gray;margin: 0 0.4em 0.5em 0.4em;box-sizing: border-box;padding-bottom: 0.4em;background-color: white;}#sk-container-id-1 div.sk-label label {font-family: monospace;font-weight: bold;display: inline-block;line-height: 1.2em;}#sk-container-id-1 div.sk-label-container {text-align: center;}#sk-container-id-1 div.sk-container {/* jupyter's `normalize.less` sets `[hidden] { display: none; }` but bootstrap.min.css set `[hidden] { display: none !important; }` so we also need the `!important` here to be able to override the default hidden behavior on the sphinx rendered scikit-learn.org. See: https://github.com/scikit-learn/scikit-learn/issues/21755 */display: inline-block !important;position: relative;}#sk-container-id-1 div.sk-text-repr-fallback {display: none;}</style><div id=\"sk-container-id-1\" class=\"sk-top-container\"><div class=\"sk-text-repr-fallback\"><pre>RandomForestRegressor()</pre><b>In a Jupyter environment, please rerun this cell to show the HTML representation or trust the notebook. <br />On GitHub, the HTML representation is unable to render, please try loading this page with nbviewer.org.</b></div><div class=\"sk-container\" hidden><div class=\"sk-item\"><div class=\"sk-estimator sk-toggleable\"><input class=\"sk-toggleable__control sk-hidden--visually\" id=\"sk-estimator-id-1\" type=\"checkbox\" checked><label for=\"sk-estimator-id-1\" class=\"sk-toggleable__label sk-toggleable__label-arrow\">RandomForestRegressor</label><div class=\"sk-toggleable__content\"><pre>RandomForestRegressor()</pre></div></div></div></div></div>"
      ],
      "text/plain": [
       "RandomForestRegressor()"
      ]
     },
     "execution_count": 9,
     "metadata": {},
     "output_type": "execute_result"
    }
   ],
   "source": [
    "%%time\n",
    "#FIT TRAIN\n",
    "regressor = RandomForestRegressor()\n",
    "hyperparameters = regressor.get_params()\n",
    "regressor.fit(X_train, y_train)\n"
   ]
  },
  {
   "cell_type": "code",
   "execution_count": 10,
   "id": "924e4482",
   "metadata": {},
   "outputs": [
    {
     "name": "stdout",
     "output_type": "stream",
     "text": [
      "CPU times: user 289 ms, sys: 5.75 ms, total: 295 ms\n",
      "Wall time: 305 ms\n"
     ]
    }
   ],
   "source": [
    "%%time\n",
    "# PREDICT\n",
    "y_pred = regressor.predict(X_test)"
   ]
  },
  {
   "cell_type": "code",
   "execution_count": 11,
   "id": "a1767f72",
   "metadata": {},
   "outputs": [
    {
     "data": {
      "text/plain": [
       "584.7350806453923"
      ]
     },
     "execution_count": 11,
     "metadata": {},
     "output_type": "execute_result"
    }
   ],
   "source": [
    "# RMSE calculation\n",
    "rmse = mean_squared_error(y_test, y_pred, squared=False)\n",
    "rmse"
   ]
  },
  {
   "cell_type": "markdown",
   "id": "57c41b2d",
   "metadata": {},
   "source": [
    "## ENTRENAMIENTO MODELO COMPLETO"
   ]
  },
  {
   "cell_type": "code",
   "execution_count": 12,
   "id": "f6000a8b",
   "metadata": {},
   "outputs": [
    {
     "data": {
      "text/html": [
       "<style>#sk-container-id-2 {color: black;background-color: white;}#sk-container-id-2 pre{padding: 0;}#sk-container-id-2 div.sk-toggleable {background-color: white;}#sk-container-id-2 label.sk-toggleable__label {cursor: pointer;display: block;width: 100%;margin-bottom: 0;padding: 0.3em;box-sizing: border-box;text-align: center;}#sk-container-id-2 label.sk-toggleable__label-arrow:before {content: \"▸\";float: left;margin-right: 0.25em;color: #696969;}#sk-container-id-2 label.sk-toggleable__label-arrow:hover:before {color: black;}#sk-container-id-2 div.sk-estimator:hover label.sk-toggleable__label-arrow:before {color: black;}#sk-container-id-2 div.sk-toggleable__content {max-height: 0;max-width: 0;overflow: hidden;text-align: left;background-color: #f0f8ff;}#sk-container-id-2 div.sk-toggleable__content pre {margin: 0.2em;color: black;border-radius: 0.25em;background-color: #f0f8ff;}#sk-container-id-2 input.sk-toggleable__control:checked~div.sk-toggleable__content {max-height: 200px;max-width: 100%;overflow: auto;}#sk-container-id-2 input.sk-toggleable__control:checked~label.sk-toggleable__label-arrow:before {content: \"▾\";}#sk-container-id-2 div.sk-estimator input.sk-toggleable__control:checked~label.sk-toggleable__label {background-color: #d4ebff;}#sk-container-id-2 div.sk-label input.sk-toggleable__control:checked~label.sk-toggleable__label {background-color: #d4ebff;}#sk-container-id-2 input.sk-hidden--visually {border: 0;clip: rect(1px 1px 1px 1px);clip: rect(1px, 1px, 1px, 1px);height: 1px;margin: -1px;overflow: hidden;padding: 0;position: absolute;width: 1px;}#sk-container-id-2 div.sk-estimator {font-family: monospace;background-color: #f0f8ff;border: 1px dotted black;border-radius: 0.25em;box-sizing: border-box;margin-bottom: 0.5em;}#sk-container-id-2 div.sk-estimator:hover {background-color: #d4ebff;}#sk-container-id-2 div.sk-parallel-item::after {content: \"\";width: 100%;border-bottom: 1px solid gray;flex-grow: 1;}#sk-container-id-2 div.sk-label:hover label.sk-toggleable__label {background-color: #d4ebff;}#sk-container-id-2 div.sk-serial::before {content: \"\";position: absolute;border-left: 1px solid gray;box-sizing: border-box;top: 0;bottom: 0;left: 50%;z-index: 0;}#sk-container-id-2 div.sk-serial {display: flex;flex-direction: column;align-items: center;background-color: white;padding-right: 0.2em;padding-left: 0.2em;position: relative;}#sk-container-id-2 div.sk-item {position: relative;z-index: 1;}#sk-container-id-2 div.sk-parallel {display: flex;align-items: stretch;justify-content: center;background-color: white;position: relative;}#sk-container-id-2 div.sk-item::before, #sk-container-id-2 div.sk-parallel-item::before {content: \"\";position: absolute;border-left: 1px solid gray;box-sizing: border-box;top: 0;bottom: 0;left: 50%;z-index: -1;}#sk-container-id-2 div.sk-parallel-item {display: flex;flex-direction: column;z-index: 1;position: relative;background-color: white;}#sk-container-id-2 div.sk-parallel-item:first-child::after {align-self: flex-end;width: 50%;}#sk-container-id-2 div.sk-parallel-item:last-child::after {align-self: flex-start;width: 50%;}#sk-container-id-2 div.sk-parallel-item:only-child::after {width: 0;}#sk-container-id-2 div.sk-dashed-wrapped {border: 1px dashed gray;margin: 0 0.4em 0.5em 0.4em;box-sizing: border-box;padding-bottom: 0.4em;background-color: white;}#sk-container-id-2 div.sk-label label {font-family: monospace;font-weight: bold;display: inline-block;line-height: 1.2em;}#sk-container-id-2 div.sk-label-container {text-align: center;}#sk-container-id-2 div.sk-container {/* jupyter's `normalize.less` sets `[hidden] { display: none; }` but bootstrap.min.css set `[hidden] { display: none !important; }` so we also need the `!important` here to be able to override the default hidden behavior on the sphinx rendered scikit-learn.org. See: https://github.com/scikit-learn/scikit-learn/issues/21755 */display: inline-block !important;position: relative;}#sk-container-id-2 div.sk-text-repr-fallback {display: none;}</style><div id=\"sk-container-id-2\" class=\"sk-top-container\"><div class=\"sk-text-repr-fallback\"><pre>RandomForestRegressor()</pre><b>In a Jupyter environment, please rerun this cell to show the HTML representation or trust the notebook. <br />On GitHub, the HTML representation is unable to render, please try loading this page with nbviewer.org.</b></div><div class=\"sk-container\" hidden><div class=\"sk-item\"><div class=\"sk-estimator sk-toggleable\"><input class=\"sk-toggleable__control sk-hidden--visually\" id=\"sk-estimator-id-2\" type=\"checkbox\" checked><label for=\"sk-estimator-id-2\" class=\"sk-toggleable__label sk-toggleable__label-arrow\">RandomForestRegressor</label><div class=\"sk-toggleable__content\"><pre>RandomForestRegressor()</pre></div></div></div></div></div>"
      ],
      "text/plain": [
       "RandomForestRegressor()"
      ]
     },
     "execution_count": 12,
     "metadata": {},
     "output_type": "execute_result"
    }
   ],
   "source": [
    "regressor = RandomForestRegressor()\n",
    "hyperparameters = regressor.get_params()\n",
    "regressor.fit(X, y)"
   ]
  },
  {
   "cell_type": "markdown",
   "id": "20d5442b",
   "metadata": {},
   "source": [
    "## TRAIN TEST KAGGLE"
   ]
  },
  {
   "cell_type": "code",
   "execution_count": 13,
   "id": "e85293d2",
   "metadata": {},
   "outputs": [
    {
     "data": {
      "text/html": [
       "<div>\n",
       "<style scoped>\n",
       "    .dataframe tbody tr th:only-of-type {\n",
       "        vertical-align: middle;\n",
       "    }\n",
       "\n",
       "    .dataframe tbody tr th {\n",
       "        vertical-align: top;\n",
       "    }\n",
       "\n",
       "    .dataframe thead th {\n",
       "        text-align: right;\n",
       "    }\n",
       "</style>\n",
       "<table border=\"1\" class=\"dataframe\">\n",
       "  <thead>\n",
       "    <tr style=\"text-align: right;\">\n",
       "      <th></th>\n",
       "      <th>Unnamed: 0</th>\n",
       "      <th>id</th>\n",
       "      <th>carat</th>\n",
       "      <th>depth</th>\n",
       "      <th>table</th>\n",
       "      <th>x</th>\n",
       "      <th>y</th>\n",
       "      <th>z</th>\n",
       "      <th>color-encoded</th>\n",
       "      <th>cut-encoded</th>\n",
       "      <th>clarity-encoded</th>\n",
       "      <th>cut-carat</th>\n",
       "    </tr>\n",
       "  </thead>\n",
       "  <tbody>\n",
       "    <tr>\n",
       "      <th>0</th>\n",
       "      <td>0</td>\n",
       "      <td>0</td>\n",
       "      <td>0.79</td>\n",
       "      <td>62.7</td>\n",
       "      <td>60.0</td>\n",
       "      <td>5.82</td>\n",
       "      <td>5.89</td>\n",
       "      <td>3.67</td>\n",
       "      <td>2.0</td>\n",
       "      <td>2.0</td>\n",
       "      <td>1.0</td>\n",
       "      <td>1.58</td>\n",
       "    </tr>\n",
       "    <tr>\n",
       "      <th>1</th>\n",
       "      <td>1</td>\n",
       "      <td>1</td>\n",
       "      <td>1.20</td>\n",
       "      <td>61.0</td>\n",
       "      <td>57.0</td>\n",
       "      <td>6.81</td>\n",
       "      <td>6.89</td>\n",
       "      <td>4.18</td>\n",
       "      <td>6.0</td>\n",
       "      <td>3.0</td>\n",
       "      <td>3.0</td>\n",
       "      <td>3.60</td>\n",
       "    </tr>\n",
       "    <tr>\n",
       "      <th>2</th>\n",
       "      <td>2</td>\n",
       "      <td>2</td>\n",
       "      <td>1.57</td>\n",
       "      <td>62.2</td>\n",
       "      <td>61.0</td>\n",
       "      <td>7.38</td>\n",
       "      <td>7.32</td>\n",
       "      <td>4.57</td>\n",
       "      <td>4.0</td>\n",
       "      <td>4.0</td>\n",
       "      <td>1.0</td>\n",
       "      <td>6.28</td>\n",
       "    </tr>\n",
       "    <tr>\n",
       "      <th>3</th>\n",
       "      <td>3</td>\n",
       "      <td>3</td>\n",
       "      <td>0.90</td>\n",
       "      <td>63.8</td>\n",
       "      <td>54.0</td>\n",
       "      <td>6.09</td>\n",
       "      <td>6.13</td>\n",
       "      <td>3.90</td>\n",
       "      <td>2.0</td>\n",
       "      <td>2.0</td>\n",
       "      <td>1.0</td>\n",
       "      <td>1.80</td>\n",
       "    </tr>\n",
       "    <tr>\n",
       "      <th>4</th>\n",
       "      <td>4</td>\n",
       "      <td>4</td>\n",
       "      <td>0.50</td>\n",
       "      <td>62.9</td>\n",
       "      <td>58.0</td>\n",
       "      <td>5.05</td>\n",
       "      <td>5.09</td>\n",
       "      <td>3.19</td>\n",
       "      <td>2.0</td>\n",
       "      <td>2.0</td>\n",
       "      <td>3.0</td>\n",
       "      <td>1.00</td>\n",
       "    </tr>\n",
       "    <tr>\n",
       "      <th>...</th>\n",
       "      <td>...</td>\n",
       "      <td>...</td>\n",
       "      <td>...</td>\n",
       "      <td>...</td>\n",
       "      <td>...</td>\n",
       "      <td>...</td>\n",
       "      <td>...</td>\n",
       "      <td>...</td>\n",
       "      <td>...</td>\n",
       "      <td>...</td>\n",
       "      <td>...</td>\n",
       "      <td>...</td>\n",
       "    </tr>\n",
       "    <tr>\n",
       "      <th>13480</th>\n",
       "      <td>13480</td>\n",
       "      <td>13480</td>\n",
       "      <td>0.57</td>\n",
       "      <td>61.9</td>\n",
       "      <td>56.0</td>\n",
       "      <td>5.35</td>\n",
       "      <td>5.32</td>\n",
       "      <td>3.30</td>\n",
       "      <td>1.0</td>\n",
       "      <td>3.0</td>\n",
       "      <td>1.0</td>\n",
       "      <td>1.71</td>\n",
       "    </tr>\n",
       "    <tr>\n",
       "      <th>13481</th>\n",
       "      <td>13481</td>\n",
       "      <td>13481</td>\n",
       "      <td>0.71</td>\n",
       "      <td>62.2</td>\n",
       "      <td>55.0</td>\n",
       "      <td>5.71</td>\n",
       "      <td>5.73</td>\n",
       "      <td>3.56</td>\n",
       "      <td>5.0</td>\n",
       "      <td>3.0</td>\n",
       "      <td>4.0</td>\n",
       "      <td>2.13</td>\n",
       "    </tr>\n",
       "    <tr>\n",
       "      <th>13482</th>\n",
       "      <td>13482</td>\n",
       "      <td>13482</td>\n",
       "      <td>0.70</td>\n",
       "      <td>61.6</td>\n",
       "      <td>55.0</td>\n",
       "      <td>5.75</td>\n",
       "      <td>5.71</td>\n",
       "      <td>3.53</td>\n",
       "      <td>2.0</td>\n",
       "      <td>3.0</td>\n",
       "      <td>3.0</td>\n",
       "      <td>2.10</td>\n",
       "    </tr>\n",
       "    <tr>\n",
       "      <th>13483</th>\n",
       "      <td>13483</td>\n",
       "      <td>13483</td>\n",
       "      <td>0.70</td>\n",
       "      <td>58.8</td>\n",
       "      <td>57.0</td>\n",
       "      <td>5.85</td>\n",
       "      <td>5.89</td>\n",
       "      <td>3.45</td>\n",
       "      <td>2.0</td>\n",
       "      <td>2.0</td>\n",
       "      <td>2.0</td>\n",
       "      <td>1.40</td>\n",
       "    </tr>\n",
       "    <tr>\n",
       "      <th>13484</th>\n",
       "      <td>13484</td>\n",
       "      <td>13484</td>\n",
       "      <td>0.40</td>\n",
       "      <td>62.4</td>\n",
       "      <td>55.0</td>\n",
       "      <td>4.70</td>\n",
       "      <td>4.73</td>\n",
       "      <td>2.94</td>\n",
       "      <td>5.0</td>\n",
       "      <td>3.0</td>\n",
       "      <td>6.0</td>\n",
       "      <td>1.20</td>\n",
       "    </tr>\n",
       "  </tbody>\n",
       "</table>\n",
       "<p>13485 rows × 12 columns</p>\n",
       "</div>"
      ],
      "text/plain": [
       "       Unnamed: 0     id  carat  depth  table     x     y     z  \\\n",
       "0               0      0   0.79   62.7   60.0  5.82  5.89  3.67   \n",
       "1               1      1   1.20   61.0   57.0  6.81  6.89  4.18   \n",
       "2               2      2   1.57   62.2   61.0  7.38  7.32  4.57   \n",
       "3               3      3   0.90   63.8   54.0  6.09  6.13  3.90   \n",
       "4               4      4   0.50   62.9   58.0  5.05  5.09  3.19   \n",
       "...           ...    ...    ...    ...    ...   ...   ...   ...   \n",
       "13480       13480  13480   0.57   61.9   56.0  5.35  5.32  3.30   \n",
       "13481       13481  13481   0.71   62.2   55.0  5.71  5.73  3.56   \n",
       "13482       13482  13482   0.70   61.6   55.0  5.75  5.71  3.53   \n",
       "13483       13483  13483   0.70   58.8   57.0  5.85  5.89  3.45   \n",
       "13484       13484  13484   0.40   62.4   55.0  4.70  4.73  2.94   \n",
       "\n",
       "       color-encoded  cut-encoded  clarity-encoded  cut-carat  \n",
       "0                2.0          2.0              1.0       1.58  \n",
       "1                6.0          3.0              3.0       3.60  \n",
       "2                4.0          4.0              1.0       6.28  \n",
       "3                2.0          2.0              1.0       1.80  \n",
       "4                2.0          2.0              3.0       1.00  \n",
       "...              ...          ...              ...        ...  \n",
       "13480            1.0          3.0              1.0       1.71  \n",
       "13481            5.0          3.0              4.0       2.13  \n",
       "13482            2.0          3.0              3.0       2.10  \n",
       "13483            2.0          2.0              2.0       1.40  \n",
       "13484            5.0          3.0              6.0       1.20  \n",
       "\n",
       "[13485 rows x 12 columns]"
      ]
     },
     "execution_count": 13,
     "metadata": {},
     "output_type": "execute_result"
    }
   ],
   "source": [
    "#Entrenamiento kaggle_test\n",
    "kaggle4= pd.read_csv('../data_2/processing_diamonds_test4.csv')\n",
    "kaggle4\n"
   ]
  },
  {
   "cell_type": "code",
   "execution_count": 15,
   "id": "fadfadd8",
   "metadata": {},
   "outputs": [],
   "source": [
    "#FEATURES\n",
    "X_kag = kaggle4[['depth',\n",
    "          'table',\n",
    "          'x',\n",
    "          'y',\n",
    "          'z',\n",
    "          'cut-carat','color-encoded', 'clarity-encoded'\n",
    "          ]]"
   ]
  },
  {
   "cell_type": "code",
   "execution_count": 16,
   "id": "0b2d0d90",
   "metadata": {},
   "outputs": [
    {
     "data": {
      "text/plain": [
       "array([2907.11, 5347.85, 9447.48, ..., 2986.82, 2154.28,  869.41])"
      ]
     },
     "execution_count": 16,
     "metadata": {},
     "output_type": "execute_result"
    }
   ],
   "source": [
    "y_pred_kag = regressor.predict(X_kag)\n",
    "y_pred_kag"
   ]
  },
  {
   "cell_type": "code",
   "execution_count": 17,
   "id": "e108d847",
   "metadata": {},
   "outputs": [
    {
     "data": {
      "text/html": [
       "<div>\n",
       "<style scoped>\n",
       "    .dataframe tbody tr th:only-of-type {\n",
       "        vertical-align: middle;\n",
       "    }\n",
       "\n",
       "    .dataframe tbody tr th {\n",
       "        vertical-align: top;\n",
       "    }\n",
       "\n",
       "    .dataframe thead th {\n",
       "        text-align: right;\n",
       "    }\n",
       "</style>\n",
       "<table border=\"1\" class=\"dataframe\">\n",
       "  <thead>\n",
       "    <tr style=\"text-align: right;\">\n",
       "      <th></th>\n",
       "      <th>price</th>\n",
       "    </tr>\n",
       "    <tr>\n",
       "      <th>id</th>\n",
       "      <th></th>\n",
       "    </tr>\n",
       "  </thead>\n",
       "  <tbody>\n",
       "    <tr>\n",
       "      <th>0</th>\n",
       "      <td>2907.11</td>\n",
       "    </tr>\n",
       "    <tr>\n",
       "      <th>1</th>\n",
       "      <td>5347.85</td>\n",
       "    </tr>\n",
       "    <tr>\n",
       "      <th>2</th>\n",
       "      <td>9447.48</td>\n",
       "    </tr>\n",
       "    <tr>\n",
       "      <th>3</th>\n",
       "      <td>4208.59</td>\n",
       "    </tr>\n",
       "    <tr>\n",
       "      <th>4</th>\n",
       "      <td>1689.40</td>\n",
       "    </tr>\n",
       "    <tr>\n",
       "      <th>...</th>\n",
       "      <td>...</td>\n",
       "    </tr>\n",
       "    <tr>\n",
       "      <th>13480</th>\n",
       "      <td>1907.61</td>\n",
       "    </tr>\n",
       "    <tr>\n",
       "      <th>13481</th>\n",
       "      <td>2344.30</td>\n",
       "    </tr>\n",
       "    <tr>\n",
       "      <th>13482</th>\n",
       "      <td>2986.82</td>\n",
       "    </tr>\n",
       "    <tr>\n",
       "      <th>13483</th>\n",
       "      <td>2154.28</td>\n",
       "    </tr>\n",
       "    <tr>\n",
       "      <th>13484</th>\n",
       "      <td>869.41</td>\n",
       "    </tr>\n",
       "  </tbody>\n",
       "</table>\n",
       "<p>13485 rows × 1 columns</p>\n",
       "</div>"
      ],
      "text/plain": [
       "         price\n",
       "id            \n",
       "0      2907.11\n",
       "1      5347.85\n",
       "2      9447.48\n",
       "3      4208.59\n",
       "4      1689.40\n",
       "...        ...\n",
       "13480  1907.61\n",
       "13481  2344.30\n",
       "13482  2986.82\n",
       "13483  2154.28\n",
       "13484   869.41\n",
       "\n",
       "[13485 rows x 1 columns]"
      ]
     },
     "execution_count": 17,
     "metadata": {},
     "output_type": "execute_result"
    }
   ],
   "source": [
    "tried4 = pd.DataFrame(y_pred_kag).rename(columns = {0:'price'})\n",
    "tried4.index.names = ['id']\n",
    "tried4"
   ]
  },
  {
   "cell_type": "code",
   "execution_count": 18,
   "id": "02bb29c6",
   "metadata": {},
   "outputs": [],
   "source": [
    "tried4.to_csv('../try/try4.csv')"
   ]
  },
  {
   "cell_type": "code",
   "execution_count": null,
   "id": "9e6a5a6d",
   "metadata": {},
   "outputs": [],
   "source": []
  }
 ],
 "metadata": {
  "kernelspec": {
   "display_name": "Python [conda env:m3_env]",
   "language": "python",
   "name": "conda-env-m3_env-py"
  },
  "language_info": {
   "codemirror_mode": {
    "name": "ipython",
    "version": 3
   },
   "file_extension": ".py",
   "mimetype": "text/x-python",
   "name": "python",
   "nbconvert_exporter": "python",
   "pygments_lexer": "ipython3",
   "version": "3.9.16"
  }
 },
 "nbformat": 4,
 "nbformat_minor": 5
}
