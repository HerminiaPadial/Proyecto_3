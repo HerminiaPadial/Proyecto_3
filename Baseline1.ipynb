{
 "cells": [
  {
   "cell_type": "code",
   "execution_count": null,
   "id": "56a309bf",
   "metadata": {},
   "outputs": [],
   "source": [
    "!pip install scikit-learn\n"
   ]
  },
  {
   "cell_type": "markdown",
   "id": "427f5fa7",
   "metadata": {},
   "source": [
    "## IMPORTS"
   ]
  },
  {
   "cell_type": "code",
   "execution_count": 1,
   "id": "1cd5db6b",
   "metadata": {},
   "outputs": [],
   "source": [
    "\n",
    "import numpy as np\n",
    "import pandas as pd\n",
    "import sklearn\n",
    "from sklearn.ensemble import RandomForestRegressor\n",
    "from sklearn.preprocessing import RobustScaler, StandardScaler\n",
    "from sklearn.preprocessing import OneHotEncoder, OrdinalEncoder\n",
    "from sklearn.model_selection import train_test_split\n",
    "from sklearn.linear_model import LogisticRegression\n",
    "from sklearn.ensemble import RandomForestClassifier\n",
    "from sklearn.metrics import roc_auc_score\n",
    "from sklearn.linear_model import LinearRegression\n",
    "from sklearn.metrics import mean_squared_error\n"
   ]
  },
  {
   "cell_type": "markdown",
   "id": "c3919896",
   "metadata": {},
   "source": [
    "## READ ORIGINAL"
   ]
  },
  {
   "cell_type": "code",
   "execution_count": 2,
   "id": "1ba0494e",
   "metadata": {},
   "outputs": [
    {
     "data": {
      "text/html": [
       "<div>\n",
       "<style scoped>\n",
       "    .dataframe tbody tr th:only-of-type {\n",
       "        vertical-align: middle;\n",
       "    }\n",
       "\n",
       "    .dataframe tbody tr th {\n",
       "        vertical-align: top;\n",
       "    }\n",
       "\n",
       "    .dataframe thead th {\n",
       "        text-align: right;\n",
       "    }\n",
       "</style>\n",
       "<table border=\"1\" class=\"dataframe\">\n",
       "  <thead>\n",
       "    <tr style=\"text-align: right;\">\n",
       "      <th></th>\n",
       "      <th>Unnamed: 0</th>\n",
       "      <th>index_id</th>\n",
       "      <th>depth</th>\n",
       "      <th>table</th>\n",
       "      <th>x</th>\n",
       "      <th>y</th>\n",
       "      <th>z</th>\n",
       "      <th>price</th>\n",
       "      <th>carat</th>\n",
       "      <th>city</th>\n",
       "      <th>color</th>\n",
       "      <th>cut</th>\n",
       "      <th>clarity</th>\n",
       "    </tr>\n",
       "  </thead>\n",
       "  <tbody>\n",
       "    <tr>\n",
       "      <th>0</th>\n",
       "      <td>0</td>\n",
       "      <td>5feceb66ffc86f38d952786c6d696c79c2dbc239dd4e91...</td>\n",
       "      <td>62.4</td>\n",
       "      <td>58.0</td>\n",
       "      <td>6.83</td>\n",
       "      <td>6.79</td>\n",
       "      <td>4.25</td>\n",
       "      <td>4268</td>\n",
       "      <td>1.21</td>\n",
       "      <td>Dubai</td>\n",
       "      <td>J</td>\n",
       "      <td>Premium</td>\n",
       "      <td>VS2</td>\n",
       "    </tr>\n",
       "    <tr>\n",
       "      <th>1</th>\n",
       "      <td>1</td>\n",
       "      <td>41667f6e2629360aecaf00b20f8732e3310417ebd54b24...</td>\n",
       "      <td>61.6</td>\n",
       "      <td>58.0</td>\n",
       "      <td>6.40</td>\n",
       "      <td>6.35</td>\n",
       "      <td>3.93</td>\n",
       "      <td>3513</td>\n",
       "      <td>1.02</td>\n",
       "      <td>Dubai</td>\n",
       "      <td>J</td>\n",
       "      <td>Premium</td>\n",
       "      <td>VS2</td>\n",
       "    </tr>\n",
       "    <tr>\n",
       "      <th>2</th>\n",
       "      <td>2</td>\n",
       "      <td>01f8667f50d52677bea23231a74156e4f92360d7bc3db6...</td>\n",
       "      <td>62.3</td>\n",
       "      <td>58.0</td>\n",
       "      <td>5.86</td>\n",
       "      <td>5.80</td>\n",
       "      <td>3.63</td>\n",
       "      <td>1792</td>\n",
       "      <td>0.77</td>\n",
       "      <td>Dubai</td>\n",
       "      <td>J</td>\n",
       "      <td>Premium</td>\n",
       "      <td>VS2</td>\n",
       "    </tr>\n",
       "    <tr>\n",
       "      <th>3</th>\n",
       "      <td>3</td>\n",
       "      <td>c3867352aab641358faec75d733af012dbe2259a014ea8...</td>\n",
       "      <td>59.6</td>\n",
       "      <td>60.0</td>\n",
       "      <td>7.58</td>\n",
       "      <td>7.48</td>\n",
       "      <td>4.49</td>\n",
       "      <td>7553</td>\n",
       "      <td>1.51</td>\n",
       "      <td>Dubai</td>\n",
       "      <td>J</td>\n",
       "      <td>Premium</td>\n",
       "      <td>VS2</td>\n",
       "    </tr>\n",
       "    <tr>\n",
       "      <th>4</th>\n",
       "      <td>4</td>\n",
       "      <td>0da4b104c4d8589fcb96a03aa0787549a2631935b0f499...</td>\n",
       "      <td>60.2</td>\n",
       "      <td>62.0</td>\n",
       "      <td>5.40</td>\n",
       "      <td>5.33</td>\n",
       "      <td>3.23</td>\n",
       "      <td>1176</td>\n",
       "      <td>0.57</td>\n",
       "      <td>Dubai</td>\n",
       "      <td>J</td>\n",
       "      <td>Premium</td>\n",
       "      <td>VS2</td>\n",
       "    </tr>\n",
       "    <tr>\n",
       "      <th>...</th>\n",
       "      <td>...</td>\n",
       "      <td>...</td>\n",
       "      <td>...</td>\n",
       "      <td>...</td>\n",
       "      <td>...</td>\n",
       "      <td>...</td>\n",
       "      <td>...</td>\n",
       "      <td>...</td>\n",
       "      <td>...</td>\n",
       "      <td>...</td>\n",
       "      <td>...</td>\n",
       "      <td>...</td>\n",
       "      <td>...</td>\n",
       "    </tr>\n",
       "    <tr>\n",
       "      <th>40450</th>\n",
       "      <td>40450</td>\n",
       "      <td>899b9a314067a23557b5db9b87d3e599e2f3200bd69b6c...</td>\n",
       "      <td>63.9</td>\n",
       "      <td>58.0</td>\n",
       "      <td>6.42</td>\n",
       "      <td>6.35</td>\n",
       "      <td>4.08</td>\n",
       "      <td>3261</td>\n",
       "      <td>1.04</td>\n",
       "      <td>Tel Aviv</td>\n",
       "      <td>H</td>\n",
       "      <td>Good</td>\n",
       "      <td>I1</td>\n",
       "    </tr>\n",
       "    <tr>\n",
       "      <th>40451</th>\n",
       "      <td>40451</td>\n",
       "      <td>5c92d55ecbfdc0dc7a896d9dc73aaac8c14672bd047c45...</td>\n",
       "      <td>62.3</td>\n",
       "      <td>55.6</td>\n",
       "      <td>7.34</td>\n",
       "      <td>7.38</td>\n",
       "      <td>4.59</td>\n",
       "      <td>6361</td>\n",
       "      <td>1.53</td>\n",
       "      <td>Tel Aviv</td>\n",
       "      <td>H</td>\n",
       "      <td>Good</td>\n",
       "      <td>I1</td>\n",
       "    </tr>\n",
       "    <tr>\n",
       "      <th>40452</th>\n",
       "      <td>40452</td>\n",
       "      <td>5f395d07369071a505ef926527de2ac53e8c29e103dc63...</td>\n",
       "      <td>61.7</td>\n",
       "      <td>63.0</td>\n",
       "      <td>7.91</td>\n",
       "      <td>7.94</td>\n",
       "      <td>4.89</td>\n",
       "      <td>7959</td>\n",
       "      <td>2.01</td>\n",
       "      <td>Antwerp</td>\n",
       "      <td>H</td>\n",
       "      <td>Good</td>\n",
       "      <td>I1</td>\n",
       "    </tr>\n",
       "    <tr>\n",
       "      <th>40453</th>\n",
       "      <td>40453</td>\n",
       "      <td>2896a9c3f7fe3dc61c33003835e6e4002f935c401bbe3b...</td>\n",
       "      <td>57.4</td>\n",
       "      <td>63.0</td>\n",
       "      <td>5.89</td>\n",
       "      <td>5.80</td>\n",
       "      <td>3.36</td>\n",
       "      <td>1255</td>\n",
       "      <td>0.70</td>\n",
       "      <td>Antwerp</td>\n",
       "      <td>H</td>\n",
       "      <td>Good</td>\n",
       "      <td>I1</td>\n",
       "    </tr>\n",
       "    <tr>\n",
       "      <th>40454</th>\n",
       "      <td>40454</td>\n",
       "      <td>d3d3ef3813201e44fd555e3ff1b8456c6c4ad79d60a22a...</td>\n",
       "      <td>64.0</td>\n",
       "      <td>56.0</td>\n",
       "      <td>7.18</td>\n",
       "      <td>7.05</td>\n",
       "      <td>4.56</td>\n",
       "      <td>4022</td>\n",
       "      <td>1.50</td>\n",
       "      <td>London</td>\n",
       "      <td>H</td>\n",
       "      <td>Good</td>\n",
       "      <td>I1</td>\n",
       "    </tr>\n",
       "  </tbody>\n",
       "</table>\n",
       "<p>40455 rows × 13 columns</p>\n",
       "</div>"
      ],
      "text/plain": [
       "       Unnamed: 0                                           index_id  depth  \\\n",
       "0               0  5feceb66ffc86f38d952786c6d696c79c2dbc239dd4e91...   62.4   \n",
       "1               1  41667f6e2629360aecaf00b20f8732e3310417ebd54b24...   61.6   \n",
       "2               2  01f8667f50d52677bea23231a74156e4f92360d7bc3db6...   62.3   \n",
       "3               3  c3867352aab641358faec75d733af012dbe2259a014ea8...   59.6   \n",
       "4               4  0da4b104c4d8589fcb96a03aa0787549a2631935b0f499...   60.2   \n",
       "...           ...                                                ...    ...   \n",
       "40450       40450  899b9a314067a23557b5db9b87d3e599e2f3200bd69b6c...   63.9   \n",
       "40451       40451  5c92d55ecbfdc0dc7a896d9dc73aaac8c14672bd047c45...   62.3   \n",
       "40452       40452  5f395d07369071a505ef926527de2ac53e8c29e103dc63...   61.7   \n",
       "40453       40453  2896a9c3f7fe3dc61c33003835e6e4002f935c401bbe3b...   57.4   \n",
       "40454       40454  d3d3ef3813201e44fd555e3ff1b8456c6c4ad79d60a22a...   64.0   \n",
       "\n",
       "       table     x     y     z  price  carat      city color      cut clarity  \n",
       "0       58.0  6.83  6.79  4.25   4268   1.21     Dubai     J  Premium     VS2  \n",
       "1       58.0  6.40  6.35  3.93   3513   1.02     Dubai     J  Premium     VS2  \n",
       "2       58.0  5.86  5.80  3.63   1792   0.77     Dubai     J  Premium     VS2  \n",
       "3       60.0  7.58  7.48  4.49   7553   1.51     Dubai     J  Premium     VS2  \n",
       "4       62.0  5.40  5.33  3.23   1176   0.57     Dubai     J  Premium     VS2  \n",
       "...      ...   ...   ...   ...    ...    ...       ...   ...      ...     ...  \n",
       "40450   58.0  6.42  6.35  4.08   3261   1.04  Tel Aviv     H     Good      I1  \n",
       "40451   55.6  7.34  7.38  4.59   6361   1.53  Tel Aviv     H     Good      I1  \n",
       "40452   63.0  7.91  7.94  4.89   7959   2.01   Antwerp     H     Good      I1  \n",
       "40453   63.0  5.89  5.80  3.36   1255   0.70   Antwerp     H     Good      I1  \n",
       "40454   56.0  7.18  7.05  4.56   4022   1.50    London     H     Good      I1  \n",
       "\n",
       "[40455 rows x 13 columns]"
      ]
     },
     "execution_count": 2,
     "metadata": {},
     "output_type": "execute_result"
    }
   ],
   "source": [
    "baseline1= pd.read_csv('./prueba1.csv')\n",
    "baseline1"
   ]
  },
  {
   "cell_type": "code",
   "execution_count": 3,
   "id": "1ee57633",
   "metadata": {},
   "outputs": [
    {
     "name": "stdout",
     "output_type": "stream",
     "text": [
      "<class 'pandas.core.frame.DataFrame'>\n",
      "RangeIndex: 40455 entries, 0 to 40454\n",
      "Data columns (total 13 columns):\n",
      " #   Column      Non-Null Count  Dtype  \n",
      "---  ------      --------------  -----  \n",
      " 0   Unnamed: 0  40455 non-null  int64  \n",
      " 1   index_id    40455 non-null  object \n",
      " 2   depth       40455 non-null  float64\n",
      " 3   table       40455 non-null  float64\n",
      " 4   x           40455 non-null  float64\n",
      " 5   y           40455 non-null  float64\n",
      " 6   z           40455 non-null  float64\n",
      " 7   price       40455 non-null  int64  \n",
      " 8   carat       40455 non-null  float64\n",
      " 9   city        40455 non-null  object \n",
      " 10  color       40455 non-null  object \n",
      " 11  cut         40455 non-null  object \n",
      " 12  clarity     40455 non-null  object \n",
      "dtypes: float64(6), int64(2), object(5)\n",
      "memory usage: 4.0+ MB\n"
     ]
    }
   ],
   "source": [
    "baseline1.info()"
   ]
  },
  {
   "cell_type": "markdown",
   "id": "324181ca",
   "metadata": {},
   "source": [
    "## Features + target"
   ]
  },
  {
   "cell_type": "code",
   "execution_count": 4,
   "id": "18a6ac08",
   "metadata": {},
   "outputs": [
    {
     "name": "stdout",
     "output_type": "stream",
     "text": [
      "(40455, 6) (40455, 10377)\n"
     ]
    }
   ],
   "source": [
    "\n",
    "X = baseline1[['depth',\n",
    "          'table',\n",
    "          'x',\n",
    "          'y',\n",
    "          'z',\n",
    "          'carat',\n",
    "          ]]\n",
    "y = pd.get_dummies(baseline1['price'], drop_first=True)\n",
    "print(X.shape,y.shape)"
   ]
  },
  {
   "cell_type": "markdown",
   "id": "de1d916d",
   "metadata": {},
   "source": [
    "## Train test split"
   ]
  },
  {
   "cell_type": "code",
   "execution_count": 5,
   "id": "a7094ed7",
   "metadata": {},
   "outputs": [
    {
     "name": "stdout",
     "output_type": "stream",
     "text": [
      "X_train: (32364, 6), X_test: (8091, 6), y_train: (32364, 10377), y_test: (8091, 10377)\n",
      "X_train: <class 'pandas.core.frame.DataFrame'>, X_test: <class 'pandas.core.frame.DataFrame'>, y_train: <class 'pandas.core.frame.DataFrame'>, y_test: <class 'pandas.core.frame.DataFrame'>\n"
     ]
    }
   ],
   "source": [
    "# Train + test\n",
    "\n",
    "X_train, X_test, y_train, y_test = train_test_split(X, y, test_size=0.2, random_state=42)\n",
    "print(f\"X_train: {X_train.shape}, X_test: {X_test.shape}, y_train: {y_train.shape}, y_test: {y_test.shape}\")\n",
    "print(f\"X_train: {type(X_train)}, X_test: {type(X_test)}, y_train: {type(y_train)}, y_test: {type(y_test)}\")"
   ]
  },
  {
   "cell_type": "code",
   "execution_count": 6,
   "id": "1a53437a",
   "metadata": {},
   "outputs": [
    {
     "name": "stdout",
     "output_type": "stream",
     "text": [
      "scaled_data es: [[-0.4         0.33333333 -0.72677596 -0.72527473 -0.75221239 -0.59375   ]\n",
      " [ 0.06666667  1.33333333 -0.7704918  -0.79120879 -0.77876106 -0.625     ]\n",
      " [-1.6         1.          1.01092896  1.04395604  0.85840708  1.3125    ]\n",
      " ...\n",
      " [ 0.06666667 -0.66666667 -0.71038251 -0.72527473 -0.71681416 -0.59375   ]\n",
      " [ 0.         -0.33333333 -0.1420765  -0.16483516 -0.15929204 -0.140625  ]\n",
      " [ 0.53333333  0.66666667  0.32240437  0.34065934  0.37168142  0.46875   ]]\n",
      "las columnas de x_train son: Index(['depth', 'table', 'x', 'y', 'z', 'carat'], dtype='object')\n",
      "el dataframe test es :\n",
      "scaled_data es: [[ 0.         -1.33333333  0.50273224  0.50549451  0.49557522  0.59375   ]\n",
      " [-0.13333333  0.          0.06010929  0.03846154  0.03539823  0.046875  ]\n",
      " [-1.06666667 -0.66666667  0.09289617  0.11538462  0.01769912  0.0625    ]\n",
      " ...\n",
      " [ 0.93333333  1.          0.2295082   0.20879121  0.2920354   0.3125    ]\n",
      " [-0.06666667  0.66666667 -0.18032787 -0.19230769 -0.19469027 -0.171875  ]\n",
      " [-1.86666667  1.66666667 -0.1420765  -0.12637363 -0.27433628 -0.1875    ]]\n",
      "las columnas de x_train son: Index(['depth', 'table', 'x', 'y', 'z', 'carat'], dtype='object')\n"
     ]
    }
   ],
   "source": [
    "# Scaling de X_train usin ROBUSTSCALER\n",
    "\n",
    "scaler = RobustScaler()  #solo se instancia una vez con el train\n",
    "scaled_data = scaler.fit_transform(X_train)  #solo para el train, fit, es entrenar con todos los datos\n",
    "print(f\"scaled_data es: {scaled_data}\")\n",
    "\n",
    "print(f\"las columnas de x_train son: {X_train.columns}\")\n",
    "\n",
    "scaled_df = pd.DataFrame(scaled_data, columns= X_train.columns)\n",
    "print(f\"el dataframe test es :\")\n",
    "scaled_df.head(5)\n",
    "\n",
    "\n",
    "# Scaling de X_test using ROBUSTSCALER\n",
    "\n",
    "scaled_data_test = scaler.transform(X_test) #no usas el fit porque ya esa parte la tienes arriba.\n",
    "print(f\"scaled_data es: {scaled_data_test}\")\n",
    "\n",
    "print(f\"las columnas de x_train son: {X_train.columns}\")\n",
    "\n",
    "scaled_df_test = pd.DataFrame(scaled_data_test, columns= X_test.columns)\n",
    "#print(f\"el dataframe test es :\")\n",
    "#scaled_df_test.head(5)"
   ]
  },
  {
   "cell_type": "markdown",
   "id": "f1ded5ab",
   "metadata": {},
   "source": [
    "## TRAIN MODEL"
   ]
  },
  {
   "cell_type": "code",
   "execution_count": 1,
   "id": "d7546212",
   "metadata": {},
   "outputs": [
    {
     "ename": "NameError",
     "evalue": "name 'RandomForestRegressor' is not defined",
     "output_type": "error",
     "traceback": [
      "\u001b[0;31m---------------------------------------------------------------------------\u001b[0m",
      "\u001b[0;31mNameError\u001b[0m                                 Traceback (most recent call last)",
      "File \u001b[0;32m<timed exec>:1\u001b[0m\n",
      "\u001b[0;31mNameError\u001b[0m: name 'RandomForestRegressor' is not defined"
     ]
    }
   ],
   "source": [
    "%%time\n",
    "regressor = RandomForestRegressor()\n",
    "hyperparameters = regressor.get_params()\n",
    "regressor.fit(X_train, y_train)\n",
    "##no lo ejecuta"
   ]
  },
  {
   "cell_type": "code",
   "execution_count": null,
   "id": "924e4482",
   "metadata": {},
   "outputs": [],
   "source": [
    "%%time\n",
    "# Predict\n",
    "y_pred = regressor.predict(X_test)"
   ]
  },
  {
   "cell_type": "code",
   "execution_count": null,
   "id": "f6000a8b",
   "metadata": {},
   "outputs": [],
   "source": [
    "%%time\n",
    "\n",
    "# Model predictions\n",
    "\n",
    "predictions = model.predict(X_test)\n",
    "print(type(predictions))"
   ]
  },
  {
   "cell_type": "code",
   "execution_count": null,
   "id": "3471c41c",
   "metadata": {},
   "outputs": [],
   "source": [
    "# RMSE\n",
    "\n",
    "real_error = round(mean_squared_error(y_test, predictions)**0.5, 5)\n",
    "print(f\"Speed predictions error is: +/- {real_error} m/s (Mean speed is around: 40 m/s and Std is around: 2 m/s)\")"
   ]
  },
  {
   "cell_type": "code",
   "execution_count": null,
   "id": "e85293d2",
   "metadata": {},
   "outputs": [],
   "source": [
    "#Entrenamiento kaggle_test\n",
    "kaggle1= pd.read_csv('../data_2/diamonds_test.csv')\n",
    "kaggle1\n"
   ]
  },
  {
   "cell_type": "code",
   "execution_count": null,
   "id": "0f1c3864",
   "metadata": {},
   "outputs": [],
   "source": [
    "'''''X = kaggle1[['depth',\n",
    "          'table',\n",
    "          'x',\n",
    "          'y',\n",
    "          'z',\n",
    "          'carat',\n",
    "          ]]'''"
   ]
  },
  {
   "cell_type": "code",
   "execution_count": null,
   "id": "6ef59d57",
   "metadata": {},
   "outputs": [],
   "source": [
    "# Train + test\n",
    "\n",
    "X_train, X_test, y_train, y_test = train_test_split(X, y, test_size=0.2, random_state=42)\n",
    "print(f\"X_train: {X_train.shape}, X_test: {X_test.shape}, y_train: {y_train.shape}, y_test: {y_test.shape}\")\n",
    "print(f\"X_train: {type(X_train)}, X_test: {type(X_test)}, y_train: {type(y_train)}, y_test: {type(y_test)}\")"
   ]
  },
  {
   "cell_type": "code",
   "execution_count": null,
   "id": "b3f1b363",
   "metadata": {},
   "outputs": [],
   "source": [
    "# Scaling de X_train usin ROBUSTSCALER\n",
    "\n",
    "scaler = RobustScaler()  #solo se instancia una vez con el train\n",
    "scaled_data = scaler.fit_transform(X_train)  #solo para el train, fit, es entrenar con todos los datos\n",
    "print(f\"scaled_data es: {scaled_data}\")\n",
    "\n",
    "print(f\"las columnas de x_train son: {X_train.columns}\")\n",
    "\n",
    "scaled_df = pd.DataFrame(scaled_data, columns= X_train.columns)\n",
    "print(f\"el dataframe test es :\")\n",
    "scaled_df.head(5)\n",
    "\n",
    "\n",
    "# Scaling de X_test using ROBUSTSCALER\n",
    "\n",
    "scaled_data_test = scaler.transform(X_test) #no usas el fit porque ya esa parte la tienes arriba.\n",
    "print(f\"scaled_data es: {scaled_data_test}\")\n",
    "\n",
    "print(f\"las columnas de x_train son: {X_train.columns}\")\n",
    "\n",
    "scaled_df_test = pd.DataFrame(scaled_data_test, columns= X_test.columns)\n",
    "#print(f\"el dataframe test es :\")\n",
    "#scaled_df_test.head(5)"
   ]
  },
  {
   "cell_type": "code",
   "execution_count": null,
   "id": "1f3443ec",
   "metadata": {},
   "outputs": [],
   "source": [
    "%%time\n",
    "# Model definition\n",
    "model = LinearRegression()\n",
    "print(type(model))"
   ]
  },
  {
   "cell_type": "code",
   "execution_count": null,
   "id": "3fb0673c",
   "metadata": {},
   "outputs": [],
   "source": [
    "%%time\n",
    "\n",
    "# Model training\n",
    "\n",
    "prices = model.fit(X_train, y_train)\n",
    "print(type(prices))"
   ]
  },
  {
   "cell_type": "code",
   "execution_count": null,
   "id": "8bff2d46",
   "metadata": {},
   "outputs": [],
   "source": [
    "%%time\n",
    "\n",
    "# Model predictions\n",
    "\n",
    "predictions = model.predict(X_test)\n",
    "print(type(predictions))"
   ]
  },
  {
   "cell_type": "code",
   "execution_count": null,
   "id": "a61607c3",
   "metadata": {},
   "outputs": [],
   "source": [
    "\n",
    "real_error = round(mean_squared_error(y_test, predictions)**0.5, 5)\n",
    "print(f\"Speed predictions error is: +/- {real_error} m/s (Mean speed is around: 40 m/s and Std is around: 2 m/s)\")"
   ]
  },
  {
   "cell_type": "code",
   "execution_count": null,
   "id": "28043731",
   "metadata": {},
   "outputs": [],
   "source": [
    "type(predictions)"
   ]
  },
  {
   "cell_type": "code",
   "execution_count": null,
   "id": "779e4cb6",
   "metadata": {},
   "outputs": [],
   "source": [
    "df_predictions = pd.DataFrame(predictions)\n"
   ]
  },
  {
   "cell_type": "code",
   "execution_count": null,
   "id": "b50b1f85",
   "metadata": {},
   "outputs": [],
   "source": [
    "df_predictions.to_csv('../Modelos/modelo1.csv')\n"
   ]
  },
  {
   "cell_type": "code",
   "execution_count": null,
   "id": "fadfadd8",
   "metadata": {},
   "outputs": [],
   "source": []
  }
 ],
 "metadata": {
  "kernelspec": {
   "display_name": "Python [conda env:m3_env]",
   "language": "python",
   "name": "conda-env-m3_env-py"
  },
  "language_info": {
   "codemirror_mode": {
    "name": "ipython",
    "version": 3
   },
   "file_extension": ".py",
   "mimetype": "text/x-python",
   "name": "python",
   "nbconvert_exporter": "python",
   "pygments_lexer": "ipython3",
   "version": "3.9.16"
  }
 },
 "nbformat": 4,
 "nbformat_minor": 5
}
